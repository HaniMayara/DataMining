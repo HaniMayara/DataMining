{
  "cells": [
    {
      "cell_type": "markdown",
      "metadata": {
        "id": "NFARdVhI1vuf"
      },
      "source": [
        "# Know your data\n",
        "\n",
        "Learn how to effectively explore and deeply understand your data before applying datapreprocessing techniques on it.\n",
        "\n",
        "\n",
        "\n",
        "---\n",
        "\n",
        "\n",
        "> Author: Dr. Fadoua Ouamani\n",
        "\n",
        "\n",
        "---\n",
        "\n",
        "\n",
        "\n"
      ]
    },
    {
      "cell_type": "markdown",
      "metadata": {
        "id": "H2VK6NWcPT9W"
      },
      "source": [
        "### **The Dataset**"
      ]
    },
    {
      "cell_type": "markdown",
      "metadata": {
        "id": "E35YJhmWPg4q"
      },
      "source": [
        "The datas was collected via a form titled \"Tell me more about you\" that was shared with the student to collect :\n",
        "\n",
        "*   Some details about their past grades in some classes related to datamining: Statistics, Mathematics, Programming, and English (as the class materials are all designed and written in english)\n",
        "*   A personality test to have an overall idea about their personalities\n",
        "*   Preferences\n",
        "\n",
        "We will not be using all the data collected, we will only use the following data about:\n",
        "\n",
        "\n",
        "*   The personlity type: nominal attribute with 4 values, Lion, Otter, Beaver, and Golden retriever\n",
        "*   Being a collector or not: binary attribute\n",
        "*   The age: Discrete numerical attribute\n",
        "*   The gender: nominal with two values, F for female and M for male\n",
        "*   Zodiac sign: nominal attribute with the values representing the different signs\n",
        "*   Favorite language : nominal attribute as well and it may continue any language among the existing ones\n",
        "*   4 past grades in Statistics, Mathematics, English and Object-Oriented Programming: Conitnous ration-scaled numerical attributes\n",
        "*   Being someone who likes learning new skills or not: Binary attribute\n",
        "\n",
        "The dataset is titled **TAYOU** as the abbreviation of Tell me About YOU. it was purely a matter of coincidence that this term has a beautiful meaning in Japanese. In fact, Tayou means diverse and varied as my students are <3\n",
        "\n",
        "\n"
      ]
    },
    {
      "cell_type": "markdown",
      "metadata": {
        "id": "xdjfRxGxTbU_"
      },
      "source": [
        "### 1.   Import the required libraries\n",
        "\n",
        "\n"
      ]
    },
    {
      "cell_type": "code",
      "execution_count": 6,
      "metadata": {
        "id": "zAmfm6f7T05Y"
      },
      "outputs": [],
      "source": [
        "import pandas as pd    # to handle the dataframe\n",
        "pd.set_option('expand_frame_repr', False) #to avoid the multi-lines formatting of the dataframe\n",
        "import numpy as np \n"
      ]
    },
    {
      "cell_type": "markdown",
      "metadata": {
        "id": "6hqp_EB6T2pQ"
      },
      "source": [
        "### 2.   Dataset loading, indexing and slicing\n",
        "\n"
      ]
    },
    {
      "cell_type": "code",
      "execution_count": 7,
      "metadata": {
        "id": "J5M1q7CNUCcU"
      },
      "outputs": [],
      "source": [
        "tayou_df = pd.read_csv('tayou.csv') #..............."
      ]
    },
    {
      "cell_type": "code",
      "execution_count": 8,
      "metadata": {
        "colab": {
          "base_uri": "https://localhost:8080/"
        },
        "id": "-brOehOWNsAr",
        "outputId": "c10e53c9-e47e-475a-961a-0958ce7c4856"
      },
      "outputs": [
        {
          "data": {
            "text/plain": [
              "(102, 11)"
            ]
          },
          "execution_count": 8,
          "metadata": {},
          "output_type": "execute_result"
        }
      ],
      "source": [
        "tayou_df.shape #..........................."
      ]
    },
    {
      "cell_type": "code",
      "execution_count": 9,
      "metadata": {
        "colab": {
          "base_uri": "https://localhost:8080/"
        },
        "id": "BLausrQ9N1FJ",
        "outputId": "71d955d0-1ac8-4fcb-af34-4de34711f560"
      },
      "outputs": [
        {
          "data": {
            "text/plain": [
              "Index(['Personality', 'Collector', 'Age', 'ZodiacSign', 'FavLg', 'GStat',\n",
              "       'GMath', 'GOOP', 'GEnglish', 'LearnNSkill', 'Gender'],\n",
              "      dtype='object')"
            ]
          },
          "execution_count": 9,
          "metadata": {},
          "output_type": "execute_result"
        }
      ],
      "source": [
        "tayou_df.columns #...................................."
      ]
    },
    {
      "cell_type": "code",
      "execution_count": 10,
      "metadata": {
        "colab": {
          "base_uri": "https://localhost:8080/",
          "height": 206
        },
        "id": "OA6bl-2yNeU4",
        "outputId": "0e110840-c55d-431a-a0e7-895e49752621"
      },
      "outputs": [
        {
          "data": {
            "text/html": [
              "<div>\n",
              "<style scoped>\n",
              "    .dataframe tbody tr th:only-of-type {\n",
              "        vertical-align: middle;\n",
              "    }\n",
              "\n",
              "    .dataframe tbody tr th {\n",
              "        vertical-align: top;\n",
              "    }\n",
              "\n",
              "    .dataframe thead th {\n",
              "        text-align: right;\n",
              "    }\n",
              "</style>\n",
              "<table border=\"1\" class=\"dataframe\">\n",
              "  <thead>\n",
              "    <tr style=\"text-align: right;\">\n",
              "      <th></th>\n",
              "      <th>Personality</th>\n",
              "      <th>Collector</th>\n",
              "      <th>Age</th>\n",
              "      <th>ZodiacSign</th>\n",
              "      <th>FavLg</th>\n",
              "      <th>GStat</th>\n",
              "      <th>GMath</th>\n",
              "      <th>GOOP</th>\n",
              "      <th>GEnglish</th>\n",
              "      <th>LearnNSkill</th>\n",
              "      <th>Gender</th>\n",
              "    </tr>\n",
              "  </thead>\n",
              "  <tbody>\n",
              "    <tr>\n",
              "      <th>0</th>\n",
              "      <td>Lion</td>\n",
              "      <td>No</td>\n",
              "      <td>24</td>\n",
              "      <td>Libra</td>\n",
              "      <td>English</td>\n",
              "      <td>15.0</td>\n",
              "      <td>15.00</td>\n",
              "      <td>15.0</td>\n",
              "      <td>18.0</td>\n",
              "      <td>No</td>\n",
              "      <td>M</td>\n",
              "    </tr>\n",
              "    <tr>\n",
              "      <th>1</th>\n",
              "      <td>Otter</td>\n",
              "      <td>No</td>\n",
              "      <td>23</td>\n",
              "      <td>Pisces</td>\n",
              "      <td>French</td>\n",
              "      <td>NaN</td>\n",
              "      <td>NaN</td>\n",
              "      <td>NaN</td>\n",
              "      <td>NaN</td>\n",
              "      <td>No</td>\n",
              "      <td>M</td>\n",
              "    </tr>\n",
              "    <tr>\n",
              "      <th>2</th>\n",
              "      <td>Lion</td>\n",
              "      <td>No</td>\n",
              "      <td>23</td>\n",
              "      <td>Leo</td>\n",
              "      <td>English</td>\n",
              "      <td>10.0</td>\n",
              "      <td>10.00</td>\n",
              "      <td>13.0</td>\n",
              "      <td>13.0</td>\n",
              "      <td>Yes</td>\n",
              "      <td>M</td>\n",
              "    </tr>\n",
              "    <tr>\n",
              "      <th>3</th>\n",
              "      <td>Lion</td>\n",
              "      <td>No</td>\n",
              "      <td>22</td>\n",
              "      <td>Scorpio</td>\n",
              "      <td>English</td>\n",
              "      <td>14.0</td>\n",
              "      <td>12.00</td>\n",
              "      <td>17.0</td>\n",
              "      <td>15.0</td>\n",
              "      <td>Yes</td>\n",
              "      <td>F</td>\n",
              "    </tr>\n",
              "    <tr>\n",
              "      <th>4</th>\n",
              "      <td>Lion</td>\n",
              "      <td>No</td>\n",
              "      <td>23</td>\n",
              "      <td>Leo</td>\n",
              "      <td>French</td>\n",
              "      <td>18.0</td>\n",
              "      <td>18.15</td>\n",
              "      <td>16.0</td>\n",
              "      <td>15.0</td>\n",
              "      <td>Yes</td>\n",
              "      <td>F</td>\n",
              "    </tr>\n",
              "  </tbody>\n",
              "</table>\n",
              "</div>"
            ],
            "text/plain": [
              "  Personality Collector  Age ZodiacSign    FavLg  GStat  GMath  GOOP  GEnglish LearnNSkill Gender\n",
              "0        Lion        No   24      Libra  English   15.0  15.00  15.0      18.0          No      M\n",
              "1       Otter        No   23     Pisces   French    NaN    NaN   NaN       NaN          No      M\n",
              "2        Lion        No   23        Leo  English   10.0  10.00  13.0      13.0         Yes      M\n",
              "3        Lion        No   22    Scorpio  English   14.0  12.00  17.0      15.0         Yes      F\n",
              "4        Lion        No   23        Leo   French   18.0  18.15  16.0      15.0         Yes      F"
            ]
          },
          "execution_count": 10,
          "metadata": {},
          "output_type": "execute_result"
        }
      ],
      "source": [
        "tayou_df.head() #............................................"
      ]
    },
    {
      "cell_type": "code",
      "execution_count": 11,
      "metadata": {
        "colab": {
          "base_uri": "https://localhost:8080/"
        },
        "id": "XzI9lvkxNXp6",
        "outputId": "235f01c3-035a-457e-c0c0-767b41216e12"
      },
      "outputs": [
        {
          "name": "stdout",
          "output_type": "stream",
          "text": [
            "Index(['Personality', 'Collector', 'Age', 'ZodiacSign', 'FavLg', 'GStat',\n",
            "       'GMath', 'GOOP', 'GEnglish', 'LearnNSkill', 'Gender'],\n",
            "      dtype='object')\n",
            "Index(['Personality', 'Collector', 'Age', 'ZodiacSign', 'FavLg', 'GStat',\n",
            "       'GMath', 'GOOP', 'GEnglish', 'LearnNSkill', 'Gender'],\n",
            "      dtype='object')\n",
            "         Personality Collector\n",
            "15              Lion       Yes\n",
            "16  Golden retriever        No\n",
            "         Personality Collector  Age\n",
            "15              Lion       Yes   23\n",
            "16  Golden retriever        No   23\n",
            "17              Lion        No   24\n"
          ]
        }
      ],
      "source": [
        "#Indexing differently and slicing\n",
        "print(tayou_df.loc[0].index)\n",
        "tayou_df.set_index(np.arange(10,112), inplace=True)\n",
        "print(tayou_df.loc[10].index) #..................................................\n",
        "print(tayou_df.iloc[5:7,0:2]) # .................................................\n",
        "print(tayou_df.loc['15':'17', 'Personality':'Age']) #"
      ]
    },
    {
      "cell_type": "markdown",
      "metadata": {
        "id": "nd8KkSI6gFQM"
      },
      "source": [
        "**Exercice 1:**\n",
        "\n",
        "1.   Use the previous output to answer what is the difference in the behavior of .loc and .iloc when it comes to slicing the dataset.\n",
        "2.   Without running but by only looking at the data, what will be the output of tayou_df.loc['10':'17', 'GStat':'GEnglish'].\n",
        "3.   Without running but by only looking at the data, what will be the output of tayou_df.iloc[0:7, 5:8]."
      ]
    },
    {
      "cell_type": "markdown",
      "metadata": {
        "id": "6PhIQ51GASbX"
      },
      "source": [
        "Answers:\n",
        "1. .loc is label-based and inclusive whereas .iloc is position-based, referring to the position and it is exclusive.\n",
        "2. Rows with index labels from '10' to '17 and columns from 'GStat' to 'GEnglish'.\n",
        "3. Same output (but with iloc).\n"
      ]
    },
    {
      "cell_type": "code",
      "execution_count": 105,
      "metadata": {
        "colab": {
          "base_uri": "https://localhost:8080/"
        },
        "id": "Q9MVrPNcCDhj",
        "outputId": "4e349dc6-45d1-49bb-9140-fde6f94cde56"
      },
      "outputs": [
        {
          "name": "stdout",
          "output_type": "stream",
          "text": [
            "          Personality Collector  Age ZodiacSign    FavLg  GStat  GMath  GOOP  GEnglish LearnNSkill Gender\n",
            "10               Lion        No   24      Libra  English   15.0  15.00  15.0     18.00          No      M\n",
            "11              Otter        No   23     Pisces   French    NaN    NaN   NaN       NaN          No      M\n",
            "12               Lion        No   23        Leo  English   10.0  10.00  13.0     13.00         Yes      M\n",
            "13               Lion        No   22    Scorpio  English   14.0  12.00  17.0     15.00         Yes      F\n",
            "14               Lion        No   23        Leo   French   18.0  18.15  16.0     15.00         Yes      F\n",
            "..                ...       ...  ...        ...      ...    ...    ...   ...       ...         ...    ...\n",
            "107            Beaver        No   23  Capricorn  English   13.0  15.00  16.0     14.00         Yes      M\n",
            "108              Lion        No   22    Scorpio   French   14.0  15.00  14.0     14.33         Yes      F\n",
            "109  Golden retriever        No   24      Virgo  Italian   16.0  17.00  12.0     13.00          No      M\n",
            "110            Beaver        No   23     Pisces   French   14.0  15.00  13.0     12.00         Yes      F\n",
            "111              Lion        No   23        Leo  English   12.0  14.00  15.0     15.00          No      M\n",
            "\n",
            "[76 rows x 11 columns]\n"
          ]
        }
      ],
      "source": [
        "#Using loc, display only the rows with collector equal to 'Yes'\n",
        "print(tayou_df.loc[tayou_df['Collector']==\"Yes\"])"
      ]
    },
    {
      "cell_type": "code",
      "execution_count": 106,
      "metadata": {
        "colab": {
          "base_uri": "https://localhost:8080/"
        },
        "id": "lZIbiVtSCuum",
        "outputId": "f329bf32-16b8-445d-bb7f-42fcf48495e1"
      },
      "outputs": [
        {
          "name": "stdout",
          "output_type": "stream",
          "text": [
            "          Personality Collector  Age ZodiacSign    FavLg  GStat  GMath  GOOP  GEnglish LearnNSkill Gender\n",
            "10               Lion        No   24      Libra  English   15.0   15.0  15.0      18.0          No      M\n",
            "11              Otter        No   23     Pisces   French    NaN    NaN   NaN       NaN          No      M\n",
            "22               Lion        No   23      Virgo   Arabic   15.0   13.0  15.5       8.5          No      M\n",
            "57   Golden retriever        No   32    Scorpio  English    NaN    NaN   NaN       NaN          No      M\n",
            "109  Golden retriever        No   24      Virgo  Italian   16.0   17.0  12.0      13.0          No      M\n",
            "111              Lion        No   23        Leo  English   12.0   14.0  15.0      15.0          No      M\n"
          ]
        }
      ],
      "source": [
        "#Using loc, display only the rows with collector equal to 'Yes' and LearnNSkill equal to 'Yes'\n",
        "print(tayou_df.loc[(tayou_df['Collector'] == \"Yes\") & (tayou_df['LearnNSkill'] == \"Yes\")])\n"
      ]
    },
    {
      "cell_type": "markdown",
      "metadata": {
        "id": "fc4EqM8ZVp8n"
      },
      "source": [
        "#interpret the results\n",
        "The condition  ['LearnNSkill'] == \"Yes\" did not affect the result because the data of those having ['Collector'] == \"Yes\" have also ['LearnNSkill'] == \"Yes\".\n",
        "\n",
        "However if  we have searched for those with ['Collector'] == \"No\" we would have gotten different results with ['LearnNSkill'] == \"Yes\" or ['LearnNSkill'] == \"No\".\n"
      ]
    },
    {
      "cell_type": "code",
      "execution_count": 108,
      "metadata": {
        "colab": {
          "base_uri": "https://localhost:8080/",
          "height": 617
        },
        "id": "GcAtVQHgGDjH",
        "outputId": "3e3c8baa-b9de-40c1-9cb3-2cebf8371ef0"
      },
      "outputs": [
        {
          "data": {
            "text/html": [
              "<div>\n",
              "<style scoped>\n",
              "    .dataframe tbody tr th:only-of-type {\n",
              "        vertical-align: middle;\n",
              "    }\n",
              "\n",
              "    .dataframe tbody tr th {\n",
              "        vertical-align: top;\n",
              "    }\n",
              "\n",
              "    .dataframe thead th {\n",
              "        text-align: right;\n",
              "    }\n",
              "</style>\n",
              "<table border=\"1\" class=\"dataframe\">\n",
              "  <thead>\n",
              "    <tr style=\"text-align: right;\">\n",
              "      <th></th>\n",
              "      <th></th>\n",
              "      <th></th>\n",
              "      <th>GStat</th>\n",
              "    </tr>\n",
              "    <tr>\n",
              "      <th>Personality</th>\n",
              "      <th>Gender</th>\n",
              "      <th>Collector</th>\n",
              "      <th></th>\n",
              "    </tr>\n",
              "  </thead>\n",
              "  <tbody>\n",
              "    <tr>\n",
              "      <th rowspan=\"4\" valign=\"top\">Beaver</th>\n",
              "      <th rowspan=\"2\" valign=\"top\">F</th>\n",
              "      <th>No</th>\n",
              "      <td>13.553000</td>\n",
              "    </tr>\n",
              "    <tr>\n",
              "      <th>Yes</th>\n",
              "      <td>15.333333</td>\n",
              "    </tr>\n",
              "    <tr>\n",
              "      <th rowspan=\"2\" valign=\"top\">M</th>\n",
              "      <th>No</th>\n",
              "      <td>13.000000</td>\n",
              "    </tr>\n",
              "    <tr>\n",
              "      <th>Yes</th>\n",
              "      <td>18.000000</td>\n",
              "    </tr>\n",
              "    <tr>\n",
              "      <th rowspan=\"4\" valign=\"top\">Golden retriever</th>\n",
              "      <th rowspan=\"2\" valign=\"top\">F</th>\n",
              "      <th>No</th>\n",
              "      <td>14.413571</td>\n",
              "    </tr>\n",
              "    <tr>\n",
              "      <th>Yes</th>\n",
              "      <td>11.643333</td>\n",
              "    </tr>\n",
              "    <tr>\n",
              "      <th rowspan=\"2\" valign=\"top\">M</th>\n",
              "      <th>No</th>\n",
              "      <td>14.444444</td>\n",
              "    </tr>\n",
              "    <tr>\n",
              "      <th>Yes</th>\n",
              "      <td>17.000000</td>\n",
              "    </tr>\n",
              "    <tr>\n",
              "      <th rowspan=\"4\" valign=\"top\">Lion</th>\n",
              "      <th rowspan=\"2\" valign=\"top\">F</th>\n",
              "      <th>No</th>\n",
              "      <td>14.457692</td>\n",
              "    </tr>\n",
              "    <tr>\n",
              "      <th>Yes</th>\n",
              "      <td>13.076000</td>\n",
              "    </tr>\n",
              "    <tr>\n",
              "      <th rowspan=\"2\" valign=\"top\">M</th>\n",
              "      <th>No</th>\n",
              "      <td>13.893125</td>\n",
              "    </tr>\n",
              "    <tr>\n",
              "      <th>Yes</th>\n",
              "      <td>13.828571</td>\n",
              "    </tr>\n",
              "    <tr>\n",
              "      <th rowspan=\"4\" valign=\"top\">Otter</th>\n",
              "      <th rowspan=\"2\" valign=\"top\">F</th>\n",
              "      <th>No</th>\n",
              "      <td>12.966667</td>\n",
              "    </tr>\n",
              "    <tr>\n",
              "      <th>Yes</th>\n",
              "      <td>14.326667</td>\n",
              "    </tr>\n",
              "    <tr>\n",
              "      <th rowspan=\"2\" valign=\"top\">M</th>\n",
              "      <th>No</th>\n",
              "      <td>9.000000</td>\n",
              "    </tr>\n",
              "    <tr>\n",
              "      <th>Yes</th>\n",
              "      <td>13.330000</td>\n",
              "    </tr>\n",
              "  </tbody>\n",
              "</table>\n",
              "</div><br><label><b>dtype:</b> float64</label>"
            ],
            "text/plain": [
              "Personality       Gender  Collector\n",
              "Beaver            F       No           13.553000\n",
              "                          Yes          15.333333\n",
              "                  M       No           13.000000\n",
              "                          Yes          18.000000\n",
              "Golden retriever  F       No           14.413571\n",
              "                          Yes          11.643333\n",
              "                  M       No           14.444444\n",
              "                          Yes          17.000000\n",
              "Lion              F       No           14.457692\n",
              "                          Yes          13.076000\n",
              "                  M       No           13.893125\n",
              "                          Yes          13.828571\n",
              "Otter             F       No           12.966667\n",
              "                          Yes          14.326667\n",
              "                  M       No            9.000000\n",
              "                          Yes          13.330000\n",
              "Name: GStat, dtype: float64"
            ]
          },
          "execution_count": 108,
          "metadata": {},
          "output_type": "execute_result"
        }
      ],
      "source": [
        "tayou_df.info\n",
        "mlt_seris =tayou_df.groupby(['Personality','Gender','Collector']).GStat.mean()\n",
        "mlt_seris"
      ]
    },
    {
      "cell_type": "markdown",
      "metadata": {
        "id": "lF_I0fwbGh1N"
      },
      "source": [
        "Note that you have created a **multi-index Series**, expand on its usefulness\n",
        "\n",
        "> Ajouter une citation\n",
        "\n",
        "\n"
      ]
    },
    {
      "cell_type": "markdown",
      "metadata": {
        "id": "d8kGHwi3IISr"
      },
      "source": [
        "Answer: A multi-index Series is highly useful for **managing** and **analyzing** data with multiple features. It provides better organization, and a more intuitive way to **aggregate** specific data groupings."
      ]
    },
    {
      "cell_type": "markdown",
      "metadata": {
        "id": "RlD2BAgBILSy"
      },
      "source": [
        "**Exercice 2:**\n",
        "\n",
        "Now run the following codes, study the outputs, and answer the questions.\n",
        "\n",
        "1. When we use .iloc[] for a multi-index Series or DataFrame, what we should expect?\n",
        "2. When we use .loc[] to access the data of one of the inner most index level of multi-index Series, what should we expect?\n",
        "3. When we use .loc[] to access the data of one of non inner most index level of multi-index Series, what should we expect?\n",
        "4. When you run either line of code below in the third cell, you will get an error and that is the point of this question. Study the error and try to answer the question.\n",
        "\n"
      ]
    },
    {
      "cell_type": "code",
      "execution_count": 114,
      "metadata": {
        "colab": {
          "base_uri": "https://localhost:8080/"
        },
        "id": "NdQu6oHAGwgs",
        "outputId": "c14071af-533e-4272-bb6c-c6ff94fafde8"
      },
      "outputs": [
        {
          "name": "stdout",
          "output_type": "stream",
          "text": [
            "13.553\n",
            "15.333333333333334\n",
            "13.0\n"
          ]
        }
      ],
      "source": [
        "print(mlt_seris.iloc[0])\n",
        "print(mlt_seris.iloc[1])\n",
        "print(mlt_seris.iloc[2])"
      ]
    },
    {
      "cell_type": "code",
      "execution_count": null,
      "metadata": {
        "colab": {
          "base_uri": "https://localhost:8080/",
          "height": 241
        },
        "id": "DlPAL5ayKZjF",
        "outputId": "a83c1df9-7bd6-43b8-f1df-df6b9dfc473d"
      },
      "outputs": [
        {
          "data": {
            "text/html": [
              "<div>\n",
              "<style scoped>\n",
              "    .dataframe tbody tr th:only-of-type {\n",
              "        vertical-align: middle;\n",
              "    }\n",
              "\n",
              "    .dataframe tbody tr th {\n",
              "        vertical-align: top;\n",
              "    }\n",
              "\n",
              "    .dataframe thead th {\n",
              "        text-align: right;\n",
              "    }\n",
              "</style>\n",
              "<table border=\"1\" class=\"dataframe\">\n",
              "  <thead>\n",
              "    <tr style=\"text-align: right;\">\n",
              "      <th></th>\n",
              "      <th></th>\n",
              "      <th>GStat</th>\n",
              "    </tr>\n",
              "    <tr>\n",
              "      <th>Gender</th>\n",
              "      <th>Collector</th>\n",
              "      <th></th>\n",
              "    </tr>\n",
              "  </thead>\n",
              "  <tbody>\n",
              "    <tr>\n",
              "      <th rowspan=\"2\" valign=\"top\">F</th>\n",
              "      <th>No</th>\n",
              "      <td>12.966667</td>\n",
              "    </tr>\n",
              "    <tr>\n",
              "      <th>Yes</th>\n",
              "      <td>14.326667</td>\n",
              "    </tr>\n",
              "    <tr>\n",
              "      <th rowspan=\"2\" valign=\"top\">M</th>\n",
              "      <th>No</th>\n",
              "      <td>9.000000</td>\n",
              "    </tr>\n",
              "    <tr>\n",
              "      <th>Yes</th>\n",
              "      <td>13.330000</td>\n",
              "    </tr>\n",
              "  </tbody>\n",
              "</table>\n",
              "</div><br><label><b>dtype:</b> float64</label>"
            ],
            "text/plain": [
              "Gender  Collector\n",
              "F       No           12.966667\n",
              "        Yes          14.326667\n",
              "M       No            9.000000\n",
              "        Yes          13.330000\n",
              "Name: GStat, dtype: float64"
            ]
          },
          "execution_count": 28,
          "metadata": {},
          "output_type": "execute_result"
        }
      ],
      "source": [
        "mlt_seris.loc['Otter']"
      ]
    },
    {
      "cell_type": "code",
      "execution_count": 113,
      "metadata": {
        "colab": {
          "base_uri": "https://localhost:8080/"
        },
        "id": "IEXjSwHiKigL",
        "outputId": "589f3d71-7982-42c7-cf87-265386d09d58"
      },
      "outputs": [
        {
          "name": "stdout",
          "output_type": "stream",
          "text": [
            "13.33\n"
          ]
        }
      ],
      "source": [
        "print(mlt_seris.loc['Otter']['M']['Yes'])"
      ]
    },
    {
      "cell_type": "markdown",
      "metadata": {
        "id": "tm8i1wW1sCrG"
      },
      "source": [
        "Answers:\n",
        "\n",
        "**1)** We should expect the mean of the index we will consider as an input (like in the examples 0, 1 and 2).\n",
        "\n",
        "**2)** We should expect the result directly (the mean resulting from the specified features).\n",
        "\n",
        "**3)** We should expect the entries that match the specified index with their corresponding mean.\n",
        "\n",
        "**4)** We tried to access a specific internal index without specifying the whole path. Thus, we get an error."
      ]
    },
    {
      "cell_type": "markdown",
      "metadata": {
        "id": "NoBhTcfn3Ori"
      },
      "source": [
        "### 3.   Central tendency\n",
        "\n"
      ]
    },
    {
      "cell_type": "markdown",
      "metadata": {
        "id": "GM-3oTWusbUS"
      },
      "source": [
        "in this section we will be answering the following question: **Given an attribute, where do most of its values fall?**\n",
        "\n",
        "The central tendency measures the location of **the middle **or **center **of a data distribution\n",
        "\n",
        "Measures are: **mean**, **median** and **mode**\n"
      ]
    },
    {
      "cell_type": "code",
      "execution_count": 115,
      "metadata": {
        "colab": {
          "base_uri": "https://localhost:8080/",
          "height": 206
        },
        "id": "M_Z_Zl6xJ1CK",
        "outputId": "aac50615-bb1b-4f58-8e83-b3b052741c14"
      },
      "outputs": [
        {
          "data": {
            "application/vnd.google.colaboratory.intrinsic+json": {
              "summary": "{\n  \"name\": \"num_split\",\n  \"rows\": 102,\n  \"fields\": [\n    {\n      \"column\": \"Age\",\n      \"properties\": {\n        \"dtype\": \"number\",\n        \"std\": 1,\n        \"min\": 22,\n        \"max\": 32,\n        \"num_unique_values\": 7,\n        \"samples\": [\n          24,\n          23,\n          32\n        ],\n        \"semantic_type\": \"\",\n        \"description\": \"\"\n      }\n    },\n    {\n      \"column\": \"GStat\",\n      \"properties\": {\n        \"dtype\": \"number\",\n        \"std\": 2.5684323780830622,\n        \"min\": 8.4,\n        \"max\": 19.0,\n        \"num_unique_values\": 37,\n        \"samples\": [\n          15.9,\n          8.4,\n          16.5\n        ],\n        \"semantic_type\": \"\",\n        \"description\": \"\"\n      }\n    },\n    {\n      \"column\": \"GMath\",\n      \"properties\": {\n        \"dtype\": \"number\",\n        \"std\": 2.2631776261542527,\n        \"min\": 7.0,\n        \"max\": 20.0,\n        \"num_unique_values\": 27,\n        \"samples\": [\n          13.0,\n          9.8,\n          11.0\n        ],\n        \"semantic_type\": \"\",\n        \"description\": \"\"\n      }\n    },\n    {\n      \"column\": \"GOOP\",\n      \"properties\": {\n        \"dtype\": \"number\",\n        \"std\": 1.8568151935521688,\n        \"min\": 10.0,\n        \"max\": 18.0,\n        \"num_unique_values\": 32,\n        \"samples\": [\n          12.5,\n          17.28,\n          10.7\n        ],\n        \"semantic_type\": \"\",\n        \"description\": \"\"\n      }\n    },\n    {\n      \"column\": \"GEnglish\",\n      \"properties\": {\n        \"dtype\": \"number\",\n        \"std\": 2.24397807935239,\n        \"min\": 8.0,\n        \"max\": 20.0,\n        \"num_unique_values\": 31,\n        \"samples\": [\n          15.55,\n          13.23,\n          19.5\n        ],\n        \"semantic_type\": \"\",\n        \"description\": \"\"\n      }\n    }\n  ]\n}",
              "type": "dataframe",
              "variable_name": "num_split"
            },
            "text/html": [
              "\n",
              "  <div id=\"df-0a6b9071-ef1f-4934-b7fd-b6e880d4456e\" class=\"colab-df-container\">\n",
              "    <div>\n",
              "<style scoped>\n",
              "    .dataframe tbody tr th:only-of-type {\n",
              "        vertical-align: middle;\n",
              "    }\n",
              "\n",
              "    .dataframe tbody tr th {\n",
              "        vertical-align: top;\n",
              "    }\n",
              "\n",
              "    .dataframe thead th {\n",
              "        text-align: right;\n",
              "    }\n",
              "</style>\n",
              "<table border=\"1\" class=\"dataframe\">\n",
              "  <thead>\n",
              "    <tr style=\"text-align: right;\">\n",
              "      <th></th>\n",
              "      <th>Age</th>\n",
              "      <th>GStat</th>\n",
              "      <th>GMath</th>\n",
              "      <th>GOOP</th>\n",
              "      <th>GEnglish</th>\n",
              "    </tr>\n",
              "  </thead>\n",
              "  <tbody>\n",
              "    <tr>\n",
              "      <th>10</th>\n",
              "      <td>24</td>\n",
              "      <td>15.0</td>\n",
              "      <td>15.00</td>\n",
              "      <td>15.0</td>\n",
              "      <td>18.0</td>\n",
              "    </tr>\n",
              "    <tr>\n",
              "      <th>11</th>\n",
              "      <td>23</td>\n",
              "      <td>NaN</td>\n",
              "      <td>NaN</td>\n",
              "      <td>NaN</td>\n",
              "      <td>NaN</td>\n",
              "    </tr>\n",
              "    <tr>\n",
              "      <th>12</th>\n",
              "      <td>23</td>\n",
              "      <td>10.0</td>\n",
              "      <td>10.00</td>\n",
              "      <td>13.0</td>\n",
              "      <td>13.0</td>\n",
              "    </tr>\n",
              "    <tr>\n",
              "      <th>13</th>\n",
              "      <td>22</td>\n",
              "      <td>14.0</td>\n",
              "      <td>12.00</td>\n",
              "      <td>17.0</td>\n",
              "      <td>15.0</td>\n",
              "    </tr>\n",
              "    <tr>\n",
              "      <th>14</th>\n",
              "      <td>23</td>\n",
              "      <td>18.0</td>\n",
              "      <td>18.15</td>\n",
              "      <td>16.0</td>\n",
              "      <td>15.0</td>\n",
              "    </tr>\n",
              "  </tbody>\n",
              "</table>\n",
              "</div>\n",
              "    <div class=\"colab-df-buttons\">\n",
              "\n",
              "  <div class=\"colab-df-container\">\n",
              "    <button class=\"colab-df-convert\" onclick=\"convertToInteractive('df-0a6b9071-ef1f-4934-b7fd-b6e880d4456e')\"\n",
              "            title=\"Convert this dataframe to an interactive table.\"\n",
              "            style=\"display:none;\">\n",
              "\n",
              "  <svg xmlns=\"http://www.w3.org/2000/svg\" height=\"24px\" viewBox=\"0 -960 960 960\">\n",
              "    <path d=\"M120-120v-720h720v720H120Zm60-500h600v-160H180v160Zm220 220h160v-160H400v160Zm0 220h160v-160H400v160ZM180-400h160v-160H180v160Zm440 0h160v-160H620v160ZM180-180h160v-160H180v160Zm440 0h160v-160H620v160Z\"/>\n",
              "  </svg>\n",
              "    </button>\n",
              "\n",
              "  <style>\n",
              "    .colab-df-container {\n",
              "      display:flex;\n",
              "      gap: 12px;\n",
              "    }\n",
              "\n",
              "    .colab-df-convert {\n",
              "      background-color: #E8F0FE;\n",
              "      border: none;\n",
              "      border-radius: 50%;\n",
              "      cursor: pointer;\n",
              "      display: none;\n",
              "      fill: #1967D2;\n",
              "      height: 32px;\n",
              "      padding: 0 0 0 0;\n",
              "      width: 32px;\n",
              "    }\n",
              "\n",
              "    .colab-df-convert:hover {\n",
              "      background-color: #E2EBFA;\n",
              "      box-shadow: 0px 1px 2px rgba(60, 64, 67, 0.3), 0px 1px 3px 1px rgba(60, 64, 67, 0.15);\n",
              "      fill: #174EA6;\n",
              "    }\n",
              "\n",
              "    .colab-df-buttons div {\n",
              "      margin-bottom: 4px;\n",
              "    }\n",
              "\n",
              "    [theme=dark] .colab-df-convert {\n",
              "      background-color: #3B4455;\n",
              "      fill: #D2E3FC;\n",
              "    }\n",
              "\n",
              "    [theme=dark] .colab-df-convert:hover {\n",
              "      background-color: #434B5C;\n",
              "      box-shadow: 0px 1px 3px 1px rgba(0, 0, 0, 0.15);\n",
              "      filter: drop-shadow(0px 1px 2px rgba(0, 0, 0, 0.3));\n",
              "      fill: #FFFFFF;\n",
              "    }\n",
              "  </style>\n",
              "\n",
              "    <script>\n",
              "      const buttonEl =\n",
              "        document.querySelector('#df-0a6b9071-ef1f-4934-b7fd-b6e880d4456e button.colab-df-convert');\n",
              "      buttonEl.style.display =\n",
              "        google.colab.kernel.accessAllowed ? 'block' : 'none';\n",
              "\n",
              "      async function convertToInteractive(key) {\n",
              "        const element = document.querySelector('#df-0a6b9071-ef1f-4934-b7fd-b6e880d4456e');\n",
              "        const dataTable =\n",
              "          await google.colab.kernel.invokeFunction('convertToInteractive',\n",
              "                                                    [key], {});\n",
              "        if (!dataTable) return;\n",
              "\n",
              "        const docLinkHtml = 'Like what you see? Visit the ' +\n",
              "          '<a target=\"_blank\" href=https://colab.research.google.com/notebooks/data_table.ipynb>data table notebook</a>'\n",
              "          + ' to learn more about interactive tables.';\n",
              "        element.innerHTML = '';\n",
              "        dataTable['output_type'] = 'display_data';\n",
              "        await google.colab.output.renderOutput(dataTable, element);\n",
              "        const docLink = document.createElement('div');\n",
              "        docLink.innerHTML = docLinkHtml;\n",
              "        element.appendChild(docLink);\n",
              "      }\n",
              "    </script>\n",
              "  </div>\n",
              "\n",
              "\n",
              "<div id=\"df-0876254d-37ac-436b-8133-c746960bb5ea\">\n",
              "  <button class=\"colab-df-quickchart\" onclick=\"quickchart('df-0876254d-37ac-436b-8133-c746960bb5ea')\"\n",
              "            title=\"Suggest charts\"\n",
              "            style=\"display:none;\">\n",
              "\n",
              "<svg xmlns=\"http://www.w3.org/2000/svg\" height=\"24px\"viewBox=\"0 0 24 24\"\n",
              "     width=\"24px\">\n",
              "    <g>\n",
              "        <path d=\"M19 3H5c-1.1 0-2 .9-2 2v14c0 1.1.9 2 2 2h14c1.1 0 2-.9 2-2V5c0-1.1-.9-2-2-2zM9 17H7v-7h2v7zm4 0h-2V7h2v10zm4 0h-2v-4h2v4z\"/>\n",
              "    </g>\n",
              "</svg>\n",
              "  </button>\n",
              "\n",
              "<style>\n",
              "  .colab-df-quickchart {\n",
              "      --bg-color: #E8F0FE;\n",
              "      --fill-color: #1967D2;\n",
              "      --hover-bg-color: #E2EBFA;\n",
              "      --hover-fill-color: #174EA6;\n",
              "      --disabled-fill-color: #AAA;\n",
              "      --disabled-bg-color: #DDD;\n",
              "  }\n",
              "\n",
              "  [theme=dark] .colab-df-quickchart {\n",
              "      --bg-color: #3B4455;\n",
              "      --fill-color: #D2E3FC;\n",
              "      --hover-bg-color: #434B5C;\n",
              "      --hover-fill-color: #FFFFFF;\n",
              "      --disabled-bg-color: #3B4455;\n",
              "      --disabled-fill-color: #666;\n",
              "  }\n",
              "\n",
              "  .colab-df-quickchart {\n",
              "    background-color: var(--bg-color);\n",
              "    border: none;\n",
              "    border-radius: 50%;\n",
              "    cursor: pointer;\n",
              "    display: none;\n",
              "    fill: var(--fill-color);\n",
              "    height: 32px;\n",
              "    padding: 0;\n",
              "    width: 32px;\n",
              "  }\n",
              "\n",
              "  .colab-df-quickchart:hover {\n",
              "    background-color: var(--hover-bg-color);\n",
              "    box-shadow: 0 1px 2px rgba(60, 64, 67, 0.3), 0 1px 3px 1px rgba(60, 64, 67, 0.15);\n",
              "    fill: var(--button-hover-fill-color);\n",
              "  }\n",
              "\n",
              "  .colab-df-quickchart-complete:disabled,\n",
              "  .colab-df-quickchart-complete:disabled:hover {\n",
              "    background-color: var(--disabled-bg-color);\n",
              "    fill: var(--disabled-fill-color);\n",
              "    box-shadow: none;\n",
              "  }\n",
              "\n",
              "  .colab-df-spinner {\n",
              "    border: 2px solid var(--fill-color);\n",
              "    border-color: transparent;\n",
              "    border-bottom-color: var(--fill-color);\n",
              "    animation:\n",
              "      spin 1s steps(1) infinite;\n",
              "  }\n",
              "\n",
              "  @keyframes spin {\n",
              "    0% {\n",
              "      border-color: transparent;\n",
              "      border-bottom-color: var(--fill-color);\n",
              "      border-left-color: var(--fill-color);\n",
              "    }\n",
              "    20% {\n",
              "      border-color: transparent;\n",
              "      border-left-color: var(--fill-color);\n",
              "      border-top-color: var(--fill-color);\n",
              "    }\n",
              "    30% {\n",
              "      border-color: transparent;\n",
              "      border-left-color: var(--fill-color);\n",
              "      border-top-color: var(--fill-color);\n",
              "      border-right-color: var(--fill-color);\n",
              "    }\n",
              "    40% {\n",
              "      border-color: transparent;\n",
              "      border-right-color: var(--fill-color);\n",
              "      border-top-color: var(--fill-color);\n",
              "    }\n",
              "    60% {\n",
              "      border-color: transparent;\n",
              "      border-right-color: var(--fill-color);\n",
              "    }\n",
              "    80% {\n",
              "      border-color: transparent;\n",
              "      border-right-color: var(--fill-color);\n",
              "      border-bottom-color: var(--fill-color);\n",
              "    }\n",
              "    90% {\n",
              "      border-color: transparent;\n",
              "      border-bottom-color: var(--fill-color);\n",
              "    }\n",
              "  }\n",
              "</style>\n",
              "\n",
              "  <script>\n",
              "    async function quickchart(key) {\n",
              "      const quickchartButtonEl =\n",
              "        document.querySelector('#' + key + ' button');\n",
              "      quickchartButtonEl.disabled = true;  // To prevent multiple clicks.\n",
              "      quickchartButtonEl.classList.add('colab-df-spinner');\n",
              "      try {\n",
              "        const charts = await google.colab.kernel.invokeFunction(\n",
              "            'suggestCharts', [key], {});\n",
              "      } catch (error) {\n",
              "        console.error('Error during call to suggestCharts:', error);\n",
              "      }\n",
              "      quickchartButtonEl.classList.remove('colab-df-spinner');\n",
              "      quickchartButtonEl.classList.add('colab-df-quickchart-complete');\n",
              "    }\n",
              "    (() => {\n",
              "      let quickchartButtonEl =\n",
              "        document.querySelector('#df-0876254d-37ac-436b-8133-c746960bb5ea button');\n",
              "      quickchartButtonEl.style.display =\n",
              "        google.colab.kernel.accessAllowed ? 'block' : 'none';\n",
              "    })();\n",
              "  </script>\n",
              "</div>\n",
              "\n",
              "    </div>\n",
              "  </div>\n"
            ],
            "text/plain": [
              "    Age  GStat  GMath  GOOP  GEnglish\n",
              "10   24   15.0  15.00  15.0      18.0\n",
              "11   23    NaN    NaN   NaN       NaN\n",
              "12   23   10.0  10.00  13.0      13.0\n",
              "13   22   14.0  12.00  17.0      15.0\n",
              "14   23   18.0  18.15  16.0      15.0"
            ]
          },
          "execution_count": 115,
          "metadata": {},
          "output_type": "execute_result"
        }
      ],
      "source": [
        "num_split=tayou_df.loc[:,tayou_df.dtypes!=object] #..........................................\n",
        "num_split.head()"
      ]
    },
    {
      "cell_type": "code",
      "execution_count": 116,
      "metadata": {
        "colab": {
          "base_uri": "https://localhost:8080/",
          "height": 206
        },
        "id": "eb8bGz74HpLq",
        "outputId": "9a1057d8-351c-4c8a-8e86-60f5b90a281b"
      },
      "outputs": [
        {
          "data": {
            "application/vnd.google.colaboratory.intrinsic+json": {
              "summary": "{\n  \"name\": \"categ_split\",\n  \"rows\": 102,\n  \"fields\": [\n    {\n      \"column\": \"Personality\",\n      \"properties\": {\n        \"dtype\": \"category\",\n        \"num_unique_values\": 4,\n        \"samples\": [\n          \"Otter\",\n          \"Beaver\",\n          \"Lion\"\n        ],\n        \"semantic_type\": \"\",\n        \"description\": \"\"\n      }\n    },\n    {\n      \"column\": \"Collector\",\n      \"properties\": {\n        \"dtype\": \"category\",\n        \"num_unique_values\": 2,\n        \"samples\": [\n          \"Yes\",\n          \"No\"\n        ],\n        \"semantic_type\": \"\",\n        \"description\": \"\"\n      }\n    },\n    {\n      \"column\": \"ZodiacSign\",\n      \"properties\": {\n        \"dtype\": \"category\",\n        \"num_unique_values\": 12,\n        \"samples\": [\n          \"Aquarius\",\n          \"Aries\"\n        ],\n        \"semantic_type\": \"\",\n        \"description\": \"\"\n      }\n    },\n    {\n      \"column\": \"FavLg\",\n      \"properties\": {\n        \"dtype\": \"category\",\n        \"num_unique_values\": 9,\n        \"samples\": [\n          \"Italian\",\n          \"French\"\n        ],\n        \"semantic_type\": \"\",\n        \"description\": \"\"\n      }\n    },\n    {\n      \"column\": \"LearnNSkill\",\n      \"properties\": {\n        \"dtype\": \"category\",\n        \"num_unique_values\": 2,\n        \"samples\": [\n          \"Yes\",\n          \"No\"\n        ],\n        \"semantic_type\": \"\",\n        \"description\": \"\"\n      }\n    },\n    {\n      \"column\": \"Gender\",\n      \"properties\": {\n        \"dtype\": \"category\",\n        \"num_unique_values\": 2,\n        \"samples\": [\n          \"F\",\n          \"M\"\n        ],\n        \"semantic_type\": \"\",\n        \"description\": \"\"\n      }\n    }\n  ]\n}",
              "type": "dataframe",
              "variable_name": "categ_split"
            },
            "text/html": [
              "\n",
              "  <div id=\"df-be8cb5a0-04a0-4651-830d-968c244d0593\" class=\"colab-df-container\">\n",
              "    <div>\n",
              "<style scoped>\n",
              "    .dataframe tbody tr th:only-of-type {\n",
              "        vertical-align: middle;\n",
              "    }\n",
              "\n",
              "    .dataframe tbody tr th {\n",
              "        vertical-align: top;\n",
              "    }\n",
              "\n",
              "    .dataframe thead th {\n",
              "        text-align: right;\n",
              "    }\n",
              "</style>\n",
              "<table border=\"1\" class=\"dataframe\">\n",
              "  <thead>\n",
              "    <tr style=\"text-align: right;\">\n",
              "      <th></th>\n",
              "      <th>Personality</th>\n",
              "      <th>Collector</th>\n",
              "      <th>ZodiacSign</th>\n",
              "      <th>FavLg</th>\n",
              "      <th>LearnNSkill</th>\n",
              "      <th>Gender</th>\n",
              "    </tr>\n",
              "  </thead>\n",
              "  <tbody>\n",
              "    <tr>\n",
              "      <th>10</th>\n",
              "      <td>Lion</td>\n",
              "      <td>No</td>\n",
              "      <td>Libra</td>\n",
              "      <td>English</td>\n",
              "      <td>No</td>\n",
              "      <td>M</td>\n",
              "    </tr>\n",
              "    <tr>\n",
              "      <th>11</th>\n",
              "      <td>Otter</td>\n",
              "      <td>No</td>\n",
              "      <td>Pisces</td>\n",
              "      <td>French</td>\n",
              "      <td>No</td>\n",
              "      <td>M</td>\n",
              "    </tr>\n",
              "    <tr>\n",
              "      <th>12</th>\n",
              "      <td>Lion</td>\n",
              "      <td>No</td>\n",
              "      <td>Leo</td>\n",
              "      <td>English</td>\n",
              "      <td>Yes</td>\n",
              "      <td>M</td>\n",
              "    </tr>\n",
              "    <tr>\n",
              "      <th>13</th>\n",
              "      <td>Lion</td>\n",
              "      <td>No</td>\n",
              "      <td>Scorpio</td>\n",
              "      <td>English</td>\n",
              "      <td>Yes</td>\n",
              "      <td>F</td>\n",
              "    </tr>\n",
              "    <tr>\n",
              "      <th>14</th>\n",
              "      <td>Lion</td>\n",
              "      <td>No</td>\n",
              "      <td>Leo</td>\n",
              "      <td>French</td>\n",
              "      <td>Yes</td>\n",
              "      <td>F</td>\n",
              "    </tr>\n",
              "  </tbody>\n",
              "</table>\n",
              "</div>\n",
              "    <div class=\"colab-df-buttons\">\n",
              "\n",
              "  <div class=\"colab-df-container\">\n",
              "    <button class=\"colab-df-convert\" onclick=\"convertToInteractive('df-be8cb5a0-04a0-4651-830d-968c244d0593')\"\n",
              "            title=\"Convert this dataframe to an interactive table.\"\n",
              "            style=\"display:none;\">\n",
              "\n",
              "  <svg xmlns=\"http://www.w3.org/2000/svg\" height=\"24px\" viewBox=\"0 -960 960 960\">\n",
              "    <path d=\"M120-120v-720h720v720H120Zm60-500h600v-160H180v160Zm220 220h160v-160H400v160Zm0 220h160v-160H400v160ZM180-400h160v-160H180v160Zm440 0h160v-160H620v160ZM180-180h160v-160H180v160Zm440 0h160v-160H620v160Z\"/>\n",
              "  </svg>\n",
              "    </button>\n",
              "\n",
              "  <style>\n",
              "    .colab-df-container {\n",
              "      display:flex;\n",
              "      gap: 12px;\n",
              "    }\n",
              "\n",
              "    .colab-df-convert {\n",
              "      background-color: #E8F0FE;\n",
              "      border: none;\n",
              "      border-radius: 50%;\n",
              "      cursor: pointer;\n",
              "      display: none;\n",
              "      fill: #1967D2;\n",
              "      height: 32px;\n",
              "      padding: 0 0 0 0;\n",
              "      width: 32px;\n",
              "    }\n",
              "\n",
              "    .colab-df-convert:hover {\n",
              "      background-color: #E2EBFA;\n",
              "      box-shadow: 0px 1px 2px rgba(60, 64, 67, 0.3), 0px 1px 3px 1px rgba(60, 64, 67, 0.15);\n",
              "      fill: #174EA6;\n",
              "    }\n",
              "\n",
              "    .colab-df-buttons div {\n",
              "      margin-bottom: 4px;\n",
              "    }\n",
              "\n",
              "    [theme=dark] .colab-df-convert {\n",
              "      background-color: #3B4455;\n",
              "      fill: #D2E3FC;\n",
              "    }\n",
              "\n",
              "    [theme=dark] .colab-df-convert:hover {\n",
              "      background-color: #434B5C;\n",
              "      box-shadow: 0px 1px 3px 1px rgba(0, 0, 0, 0.15);\n",
              "      filter: drop-shadow(0px 1px 2px rgba(0, 0, 0, 0.3));\n",
              "      fill: #FFFFFF;\n",
              "    }\n",
              "  </style>\n",
              "\n",
              "    <script>\n",
              "      const buttonEl =\n",
              "        document.querySelector('#df-be8cb5a0-04a0-4651-830d-968c244d0593 button.colab-df-convert');\n",
              "      buttonEl.style.display =\n",
              "        google.colab.kernel.accessAllowed ? 'block' : 'none';\n",
              "\n",
              "      async function convertToInteractive(key) {\n",
              "        const element = document.querySelector('#df-be8cb5a0-04a0-4651-830d-968c244d0593');\n",
              "        const dataTable =\n",
              "          await google.colab.kernel.invokeFunction('convertToInteractive',\n",
              "                                                    [key], {});\n",
              "        if (!dataTable) return;\n",
              "\n",
              "        const docLinkHtml = 'Like what you see? Visit the ' +\n",
              "          '<a target=\"_blank\" href=https://colab.research.google.com/notebooks/data_table.ipynb>data table notebook</a>'\n",
              "          + ' to learn more about interactive tables.';\n",
              "        element.innerHTML = '';\n",
              "        dataTable['output_type'] = 'display_data';\n",
              "        await google.colab.output.renderOutput(dataTable, element);\n",
              "        const docLink = document.createElement('div');\n",
              "        docLink.innerHTML = docLinkHtml;\n",
              "        element.appendChild(docLink);\n",
              "      }\n",
              "    </script>\n",
              "  </div>\n",
              "\n",
              "\n",
              "<div id=\"df-cbb8106f-fbad-4acb-8323-498f48e16472\">\n",
              "  <button class=\"colab-df-quickchart\" onclick=\"quickchart('df-cbb8106f-fbad-4acb-8323-498f48e16472')\"\n",
              "            title=\"Suggest charts\"\n",
              "            style=\"display:none;\">\n",
              "\n",
              "<svg xmlns=\"http://www.w3.org/2000/svg\" height=\"24px\"viewBox=\"0 0 24 24\"\n",
              "     width=\"24px\">\n",
              "    <g>\n",
              "        <path d=\"M19 3H5c-1.1 0-2 .9-2 2v14c0 1.1.9 2 2 2h14c1.1 0 2-.9 2-2V5c0-1.1-.9-2-2-2zM9 17H7v-7h2v7zm4 0h-2V7h2v10zm4 0h-2v-4h2v4z\"/>\n",
              "    </g>\n",
              "</svg>\n",
              "  </button>\n",
              "\n",
              "<style>\n",
              "  .colab-df-quickchart {\n",
              "      --bg-color: #E8F0FE;\n",
              "      --fill-color: #1967D2;\n",
              "      --hover-bg-color: #E2EBFA;\n",
              "      --hover-fill-color: #174EA6;\n",
              "      --disabled-fill-color: #AAA;\n",
              "      --disabled-bg-color: #DDD;\n",
              "  }\n",
              "\n",
              "  [theme=dark] .colab-df-quickchart {\n",
              "      --bg-color: #3B4455;\n",
              "      --fill-color: #D2E3FC;\n",
              "      --hover-bg-color: #434B5C;\n",
              "      --hover-fill-color: #FFFFFF;\n",
              "      --disabled-bg-color: #3B4455;\n",
              "      --disabled-fill-color: #666;\n",
              "  }\n",
              "\n",
              "  .colab-df-quickchart {\n",
              "    background-color: var(--bg-color);\n",
              "    border: none;\n",
              "    border-radius: 50%;\n",
              "    cursor: pointer;\n",
              "    display: none;\n",
              "    fill: var(--fill-color);\n",
              "    height: 32px;\n",
              "    padding: 0;\n",
              "    width: 32px;\n",
              "  }\n",
              "\n",
              "  .colab-df-quickchart:hover {\n",
              "    background-color: var(--hover-bg-color);\n",
              "    box-shadow: 0 1px 2px rgba(60, 64, 67, 0.3), 0 1px 3px 1px rgba(60, 64, 67, 0.15);\n",
              "    fill: var(--button-hover-fill-color);\n",
              "  }\n",
              "\n",
              "  .colab-df-quickchart-complete:disabled,\n",
              "  .colab-df-quickchart-complete:disabled:hover {\n",
              "    background-color: var(--disabled-bg-color);\n",
              "    fill: var(--disabled-fill-color);\n",
              "    box-shadow: none;\n",
              "  }\n",
              "\n",
              "  .colab-df-spinner {\n",
              "    border: 2px solid var(--fill-color);\n",
              "    border-color: transparent;\n",
              "    border-bottom-color: var(--fill-color);\n",
              "    animation:\n",
              "      spin 1s steps(1) infinite;\n",
              "  }\n",
              "\n",
              "  @keyframes spin {\n",
              "    0% {\n",
              "      border-color: transparent;\n",
              "      border-bottom-color: var(--fill-color);\n",
              "      border-left-color: var(--fill-color);\n",
              "    }\n",
              "    20% {\n",
              "      border-color: transparent;\n",
              "      border-left-color: var(--fill-color);\n",
              "      border-top-color: var(--fill-color);\n",
              "    }\n",
              "    30% {\n",
              "      border-color: transparent;\n",
              "      border-left-color: var(--fill-color);\n",
              "      border-top-color: var(--fill-color);\n",
              "      border-right-color: var(--fill-color);\n",
              "    }\n",
              "    40% {\n",
              "      border-color: transparent;\n",
              "      border-right-color: var(--fill-color);\n",
              "      border-top-color: var(--fill-color);\n",
              "    }\n",
              "    60% {\n",
              "      border-color: transparent;\n",
              "      border-right-color: var(--fill-color);\n",
              "    }\n",
              "    80% {\n",
              "      border-color: transparent;\n",
              "      border-right-color: var(--fill-color);\n",
              "      border-bottom-color: var(--fill-color);\n",
              "    }\n",
              "    90% {\n",
              "      border-color: transparent;\n",
              "      border-bottom-color: var(--fill-color);\n",
              "    }\n",
              "  }\n",
              "</style>\n",
              "\n",
              "  <script>\n",
              "    async function quickchart(key) {\n",
              "      const quickchartButtonEl =\n",
              "        document.querySelector('#' + key + ' button');\n",
              "      quickchartButtonEl.disabled = true;  // To prevent multiple clicks.\n",
              "      quickchartButtonEl.classList.add('colab-df-spinner');\n",
              "      try {\n",
              "        const charts = await google.colab.kernel.invokeFunction(\n",
              "            'suggestCharts', [key], {});\n",
              "      } catch (error) {\n",
              "        console.error('Error during call to suggestCharts:', error);\n",
              "      }\n",
              "      quickchartButtonEl.classList.remove('colab-df-spinner');\n",
              "      quickchartButtonEl.classList.add('colab-df-quickchart-complete');\n",
              "    }\n",
              "    (() => {\n",
              "      let quickchartButtonEl =\n",
              "        document.querySelector('#df-cbb8106f-fbad-4acb-8323-498f48e16472 button');\n",
              "      quickchartButtonEl.style.display =\n",
              "        google.colab.kernel.accessAllowed ? 'block' : 'none';\n",
              "    })();\n",
              "  </script>\n",
              "</div>\n",
              "\n",
              "    </div>\n",
              "  </div>\n"
            ],
            "text/plain": [
              "   Personality Collector ZodiacSign    FavLg LearnNSkill Gender\n",
              "10        Lion        No      Libra  English          No      M\n",
              "11       Otter        No     Pisces   French          No      M\n",
              "12        Lion        No        Leo  English         Yes      M\n",
              "13        Lion        No    Scorpio  English         Yes      F\n",
              "14        Lion        No        Leo   French         Yes      F"
            ]
          },
          "execution_count": 116,
          "metadata": {},
          "output_type": "execute_result"
        }
      ],
      "source": [
        "categ_split=tayou_df.loc[:,tayou_df.dtypes==object] #...........................................\n",
        "categ_split.head()"
      ]
    },
    {
      "cell_type": "code",
      "execution_count": null,
      "metadata": {
        "colab": {
          "base_uri": "https://localhost:8080/"
        },
        "id": "Zj4rTIzlJ_NF",
        "outputId": "1864c30c-9f1c-482a-c2a4-d75867dd83b3"
      },
      "outputs": [
        {
          "name": "stdout",
          "output_type": "stream",
          "text": [
            "23.15686274509804\n",
            "23.0\n",
            "0    23\n",
            "Name: Age, dtype: int64\n",
            "13.966451612903226\n",
            "14.0\n",
            "0    15.0\n",
            "Name: GStat, dtype: float64\n",
            "13.803894736842103\n",
            "14.0\n",
            "0    15.0\n",
            "Name: GMath, dtype: float64\n",
            "14.721702127659574\n",
            "15.0\n",
            "0    15.0\n",
            "Name: GOOP, dtype: float64\n",
            "14.134479166666665\n",
            "14.18\n",
            "0    15.0\n",
            "Name: GEnglish, dtype: float64\n"
          ]
        }
      ],
      "source": [
        "for column_name in num_split.columns:\n",
        "    print(num_split[column_name].mean())\n",
        "    print(num_split[column_name].median())\n",
        "    print(num_split[column_name].mode())"
      ]
    },
    {
      "cell_type": "markdown",
      "metadata": {
        "id": "ArwqsOi3xq50"
      },
      "source": [
        "*Interpret* the obtained results: (Indication: compare the values you have obtained for each attribute for the mean, the median and the mode)\n",
        "==> For the age the mean is the same as the median and the mode (which is logic because most of the students reaching the 3th year at the school are 23 years old).\n",
        "\n",
        "As for the grades of English, OOP, Maths and Stat, the most recurrent grade is 15 and they vary between students that's why the mean and the median are also varying."
      ]
    },
    {
      "cell_type": "code",
      "execution_count": 117,
      "metadata": {
        "colab": {
          "base_uri": "https://localhost:8080/",
          "height": 453
        },
        "id": "kKF1I1ZJyM_t",
        "outputId": "fae09737-ad36-4e80-8f3e-e666ddf8d9b4"
      },
      "outputs": [
        {
          "data": {
            "image/png": "[encoded data removed]",
            "text/plain": [
              "<Figure size 640x480 with 1 Axes>"
            ]
          },
          "metadata": {},
          "output_type": "display_data"
        }
      ],
      "source": [
        "import matplotlib.pyplot as plt\n",
        "import scipy.stats as stats\n",
        "# Calculating the mean and standard deviation of the parameter \"GStat\":\n",
        "mean = tayou_df['GStat'].mean()\n",
        "std = tayou_df['GStat'].std()\n",
        "\n",
        "# Calculating probability density function (PDF)\n",
        "pdf = stats.norm.pdf(tayou_df['GStat'].sort_values(), mean, std)\n",
        "\n",
        "# Drawing a graph\n",
        "plt.plot(tayou_df['GStat'].sort_values(), pdf)\n",
        "plt.xlim([5,20])\n",
        "plt.xlabel('Grades in Statistics (GStat)', size=12)\n",
        "plt.ylabel('Frequency', size=12)\n",
        "plt.grid(True, alpha=0.3, linestyle='--')\n",
        "plt.show()"
      ]
    },
    {
      "cell_type": "markdown",
      "metadata": {
        "id": "r3n3wGtXqofa"
      },
      "source": [
        "Interpret the resulting plot: The plot is normal (no skew) because it is symetric that's why there are no major differences between the mean, the mode and the median."
      ]
    },
    {
      "cell_type": "code",
      "execution_count": 118,
      "metadata": {
        "colab": {
          "base_uri": "https://localhost:8080/"
        },
        "id": "xd0e8XvXLkIZ",
        "outputId": "6b8f4b1f-3fe7-438e-bf2a-6f6980b2ce6f"
      },
      "outputs": [
        {
          "name": "stdout",
          "output_type": "stream",
          "text": [
            "0    Lion\n",
            "Name: Personality, dtype: object\n",
            "Personality\n",
            "Lion                44\n",
            "Golden retriever    28\n",
            "Beaver              20\n",
            "Otter               10\n",
            "Name: count, dtype: int64\n",
            "0    No\n",
            "Name: Collector, dtype: object\n",
            "Collector\n",
            "No     76\n",
            "Yes    26\n",
            "Name: count, dtype: int64\n",
            "0    Gemini\n",
            "1       Leo\n",
            "Name: ZodiacSign, dtype: object\n",
            "ZodiacSign\n",
            "Leo            12\n",
            "Gemini         12\n",
            "Scorpio        10\n",
            "Pisces          9\n",
            "Virgo           9\n",
            "Libra           8\n",
            "Sagittarius     8\n",
            "Cancer          8\n",
            "Aquarius        8\n",
            "Taurus          7\n",
            "Aries           7\n",
            "Capricorn       4\n",
            "Name: count, dtype: int64\n",
            "0    English\n",
            "Name: FavLg, dtype: object\n",
            "FavLg\n",
            "English     34\n",
            "French      29\n",
            "Arabic      23\n",
            "Spanish      7\n",
            "Italian      4\n",
            "Spanich      1\n",
            "German       1\n",
            "Arabic       1\n",
            "Allemand     1\n",
            "Name: count, dtype: int64\n",
            "0    Yes\n",
            "Name: LearnNSkill, dtype: object\n",
            "LearnNSkill\n",
            "Yes    96\n",
            "No      6\n",
            "Name: count, dtype: int64\n",
            "0    F\n",
            "Name: Gender, dtype: object\n",
            "Gender\n",
            "F    56\n",
            "M    46\n",
            "Name: count, dtype: int64\n"
          ]
        }
      ],
      "source": [
        "for column_name in categ_split.columns:\n",
        "    print(categ_split[column_name].mode())\n",
        "    print(categ_split[column_name].value_counts())"
      ]
    },
    {
      "cell_type": "markdown",
      "metadata": {
        "id": "965A_WbgL3py"
      },
      "source": [
        "Interpret the results:\n",
        "\n",
        "The most common personality is Lion, and most respondents do not consider themselves collectors.\n",
        "\n",
        "\n",
        "The distribution of zodiac signs is fairly spread, with Leo and Gemini being the most common.\n",
        "\n",
        "English is the favorite language.\n",
        "\n",
        "A strong majority (96) are interested in learning new skills.\n",
        "\n",
        "The gender ratio is close to balanced, with slightly more females than males."
      ]
    },
    {
      "cell_type": "markdown",
      "metadata": {
        "id": "3TVqABp23pAp"
      },
      "source": [
        "### 4.  Dispersion\n",
        "\n"
      ]
    },
    {
      "cell_type": "markdown",
      "metadata": {
        "id": "oks3akpa6hO0"
      },
      "source": [
        "In this section, we will be answering the following question: **How are the data spread out?** by measuring the variability of data\n",
        "\n",
        "Measures: **range**, **quartiles**,**interquartile range**, **variance** and **standard deviation**"
      ]
    },
    {
      "cell_type": "code",
      "execution_count": 119,
      "metadata": {
        "id": "4qzDctHa3xp8"
      },
      "outputs": [],
      "source": [
        "# the range\n",
        "def range_imp(dat):\n",
        "  return (dat.max()-dat.min())"
      ]
    },
    {
      "cell_type": "code",
      "execution_count": 129,
      "metadata": {
        "colab": {
          "base_uri": "https://localhost:8080/"
        },
        "id": "E1pUeKHu78V7",
        "outputId": "0e87a77f-3ddd-471d-b822-dfe4fa95561a"
      },
      "outputs": [
        {
          "name": "stdout",
          "output_type": "stream",
          "text": [
            "for Age  the range is  10\n",
            "for GStat  the range is  10.6\n",
            "for GMath  the range is  13.0\n",
            "for GOOP  the range is  8.0\n",
            "for GEnglish  the range is  12.0\n"
          ]
        }
      ],
      "source": [
        "#Use the function to compute the range for each numerical attribute\n",
        "for column_name in num_split.columns:\n",
        "  print('for',column_name,' the range is ', range_imp(num_split[column_name]))"
      ]
    },
    {
      "cell_type": "code",
      "execution_count": 130,
      "metadata": {
        "colab": {
          "base_uri": "https://localhost:8080/",
          "height": 300
        },
        "id": "bg_B4gyuKpC3",
        "outputId": "ba8930c2-d807-487b-a20f-e152c117a0ea"
      },
      "outputs": [
        {
          "data": {
            "application/vnd.google.colaboratory.intrinsic+json": {
              "summary": "{\n  \"name\": \"tayou_df\",\n  \"rows\": 8,\n  \"fields\": [\n    {\n      \"column\": \"Age\",\n      \"properties\": {\n        \"dtype\": \"number\",\n        \"std\": 29.904601651222205,\n        \"min\": 1.2722872366952915,\n        \"max\": 102.0,\n        \"num_unique_values\": 6,\n        \"samples\": [\n          102.0,\n          23.15686274509804,\n          32.0\n        ],\n        \"semantic_type\": \"\",\n        \"description\": \"\"\n      }\n    },\n    {\n      \"column\": \"GStat\",\n      \"properties\": {\n        \"dtype\": \"number\",\n        \"std\": 28.972911059736692,\n        \"min\": 2.5684323780830622,\n        \"max\": 93.0,\n        \"num_unique_values\": 8,\n        \"samples\": [\n          13.966451612903226,\n          14.0,\n          93.0\n        ],\n        \"semantic_type\": \"\",\n        \"description\": \"\"\n      }\n    },\n    {\n      \"column\": \"GMath\",\n      \"properties\": {\n        \"dtype\": \"number\",\n        \"std\": 29.824588207650606,\n        \"min\": 2.2631776261542527,\n        \"max\": 95.0,\n        \"num_unique_values\": 8,\n        \"samples\": [\n          13.803894736842103,\n          14.0,\n          95.0\n        ],\n        \"semantic_type\": \"\",\n        \"description\": \"\"\n      }\n    },\n    {\n      \"column\": \"GOOP\",\n      \"properties\": {\n        \"dtype\": \"number\",\n        \"std\": 29.15405709257749,\n        \"min\": 1.8568151935521688,\n        \"max\": 94.0,\n        \"num_unique_values\": 8,\n        \"samples\": [\n          14.721702127659574,\n          15.0,\n          94.0\n        ],\n        \"semantic_type\": \"\",\n        \"description\": \"\"\n      }\n    },\n    {\n      \"column\": \"GEnglish\",\n      \"properties\": {\n        \"dtype\": \"number\",\n        \"std\": 30.03317820089672,\n        \"min\": 2.24397807935239,\n        \"max\": 96.0,\n        \"num_unique_values\": 8,\n        \"samples\": [\n          14.134479166666665,\n          14.18,\n          96.0\n        ],\n        \"semantic_type\": \"\",\n        \"description\": \"\"\n      }\n    }\n  ]\n}",
              "type": "dataframe"
            },
            "text/html": [
              "\n",
              "  <div id=\"df-6c54704c-0928-4317-b14a-2d6ab5dd5731\" class=\"colab-df-container\">\n",
              "    <div>\n",
              "<style scoped>\n",
              "    .dataframe tbody tr th:only-of-type {\n",
              "        vertical-align: middle;\n",
              "    }\n",
              "\n",
              "    .dataframe tbody tr th {\n",
              "        vertical-align: top;\n",
              "    }\n",
              "\n",
              "    .dataframe thead th {\n",
              "        text-align: right;\n",
              "    }\n",
              "</style>\n",
              "<table border=\"1\" class=\"dataframe\">\n",
              "  <thead>\n",
              "    <tr style=\"text-align: right;\">\n",
              "      <th></th>\n",
              "      <th>Age</th>\n",
              "      <th>GStat</th>\n",
              "      <th>GMath</th>\n",
              "      <th>GOOP</th>\n",
              "      <th>GEnglish</th>\n",
              "    </tr>\n",
              "  </thead>\n",
              "  <tbody>\n",
              "    <tr>\n",
              "      <th>count</th>\n",
              "      <td>102.000000</td>\n",
              "      <td>93.000000</td>\n",
              "      <td>95.000000</td>\n",
              "      <td>94.000000</td>\n",
              "      <td>96.000000</td>\n",
              "    </tr>\n",
              "    <tr>\n",
              "      <th>mean</th>\n",
              "      <td>23.156863</td>\n",
              "      <td>13.966452</td>\n",
              "      <td>13.803895</td>\n",
              "      <td>14.721702</td>\n",
              "      <td>14.134479</td>\n",
              "    </tr>\n",
              "    <tr>\n",
              "      <th>std</th>\n",
              "      <td>1.272287</td>\n",
              "      <td>2.568432</td>\n",
              "      <td>2.263178</td>\n",
              "      <td>1.856815</td>\n",
              "      <td>2.243978</td>\n",
              "    </tr>\n",
              "    <tr>\n",
              "      <th>min</th>\n",
              "      <td>22.000000</td>\n",
              "      <td>8.400000</td>\n",
              "      <td>7.000000</td>\n",
              "      <td>10.000000</td>\n",
              "      <td>8.000000</td>\n",
              "    </tr>\n",
              "    <tr>\n",
              "      <th>25%</th>\n",
              "      <td>23.000000</td>\n",
              "      <td>12.000000</td>\n",
              "      <td>12.000000</td>\n",
              "      <td>13.715000</td>\n",
              "      <td>13.000000</td>\n",
              "    </tr>\n",
              "    <tr>\n",
              "      <th>50%</th>\n",
              "      <td>23.000000</td>\n",
              "      <td>14.000000</td>\n",
              "      <td>14.000000</td>\n",
              "      <td>15.000000</td>\n",
              "      <td>14.180000</td>\n",
              "    </tr>\n",
              "    <tr>\n",
              "      <th>75%</th>\n",
              "      <td>23.000000</td>\n",
              "      <td>16.000000</td>\n",
              "      <td>15.000000</td>\n",
              "      <td>16.000000</td>\n",
              "      <td>15.000000</td>\n",
              "    </tr>\n",
              "    <tr>\n",
              "      <th>max</th>\n",
              "      <td>32.000000</td>\n",
              "      <td>19.000000</td>\n",
              "      <td>20.000000</td>\n",
              "      <td>18.000000</td>\n",
              "      <td>20.000000</td>\n",
              "    </tr>\n",
              "  </tbody>\n",
              "</table>\n",
              "</div>\n",
              "    <div class=\"colab-df-buttons\">\n",
              "\n",
              "  <div class=\"colab-df-container\">\n",
              "    <button class=\"colab-df-convert\" onclick=\"convertToInteractive('df-6c54704c-0928-4317-b14a-2d6ab5dd5731')\"\n",
              "            title=\"Convert this dataframe to an interactive table.\"\n",
              "            style=\"display:none;\">\n",
              "\n",
              "  <svg xmlns=\"http://www.w3.org/2000/svg\" height=\"24px\" viewBox=\"0 -960 960 960\">\n",
              "    <path d=\"M120-120v-720h720v720H120Zm60-500h600v-160H180v160Zm220 220h160v-160H400v160Zm0 220h160v-160H400v160ZM180-400h160v-160H180v160Zm440 0h160v-160H620v160ZM180-180h160v-160H180v160Zm440 0h160v-160H620v160Z\"/>\n",
              "  </svg>\n",
              "    </button>\n",
              "\n",
              "  <style>\n",
              "    .colab-df-container {\n",
              "      display:flex;\n",
              "      gap: 12px;\n",
              "    }\n",
              "\n",
              "    .colab-df-convert {\n",
              "      background-color: #E8F0FE;\n",
              "      border: none;\n",
              "      border-radius: 50%;\n",
              "      cursor: pointer;\n",
              "      display: none;\n",
              "      fill: #1967D2;\n",
              "      height: 32px;\n",
              "      padding: 0 0 0 0;\n",
              "      width: 32px;\n",
              "    }\n",
              "\n",
              "    .colab-df-convert:hover {\n",
              "      background-color: #E2EBFA;\n",
              "      box-shadow: 0px 1px 2px rgba(60, 64, 67, 0.3), 0px 1px 3px 1px rgba(60, 64, 67, 0.15);\n",
              "      fill: #174EA6;\n",
              "    }\n",
              "\n",
              "    .colab-df-buttons div {\n",
              "      margin-bottom: 4px;\n",
              "    }\n",
              "\n",
              "    [theme=dark] .colab-df-convert {\n",
              "      background-color: #3B4455;\n",
              "      fill: #D2E3FC;\n",
              "    }\n",
              "\n",
              "    [theme=dark] .colab-df-convert:hover {\n",
              "      background-color: #434B5C;\n",
              "      box-shadow: 0px 1px 3px 1px rgba(0, 0, 0, 0.15);\n",
              "      filter: drop-shadow(0px 1px 2px rgba(0, 0, 0, 0.3));\n",
              "      fill: #FFFFFF;\n",
              "    }\n",
              "  </style>\n",
              "\n",
              "    <script>\n",
              "      const buttonEl =\n",
              "        document.querySelector('#df-6c54704c-0928-4317-b14a-2d6ab5dd5731 button.colab-df-convert');\n",
              "      buttonEl.style.display =\n",
              "        google.colab.kernel.accessAllowed ? 'block' : 'none';\n",
              "\n",
              "      async function convertToInteractive(key) {\n",
              "        const element = document.querySelector('#df-6c54704c-0928-4317-b14a-2d6ab5dd5731');\n",
              "        const dataTable =\n",
              "          await google.colab.kernel.invokeFunction('convertToInteractive',\n",
              "                                                    [key], {});\n",
              "        if (!dataTable) return;\n",
              "\n",
              "        const docLinkHtml = 'Like what you see? Visit the ' +\n",
              "          '<a target=\"_blank\" href=https://colab.research.google.com/notebooks/data_table.ipynb>data table notebook</a>'\n",
              "          + ' to learn more about interactive tables.';\n",
              "        element.innerHTML = '';\n",
              "        dataTable['output_type'] = 'display_data';\n",
              "        await google.colab.output.renderOutput(dataTable, element);\n",
              "        const docLink = document.createElement('div');\n",
              "        docLink.innerHTML = docLinkHtml;\n",
              "        element.appendChild(docLink);\n",
              "      }\n",
              "    </script>\n",
              "  </div>\n",
              "\n",
              "\n",
              "<div id=\"df-1dde4819-b263-4f77-ba8c-ba9b6141ec3e\">\n",
              "  <button class=\"colab-df-quickchart\" onclick=\"quickchart('df-1dde4819-b263-4f77-ba8c-ba9b6141ec3e')\"\n",
              "            title=\"Suggest charts\"\n",
              "            style=\"display:none;\">\n",
              "\n",
              "<svg xmlns=\"http://www.w3.org/2000/svg\" height=\"24px\"viewBox=\"0 0 24 24\"\n",
              "     width=\"24px\">\n",
              "    <g>\n",
              "        <path d=\"M19 3H5c-1.1 0-2 .9-2 2v14c0 1.1.9 2 2 2h14c1.1 0 2-.9 2-2V5c0-1.1-.9-2-2-2zM9 17H7v-7h2v7zm4 0h-2V7h2v10zm4 0h-2v-4h2v4z\"/>\n",
              "    </g>\n",
              "</svg>\n",
              "  </button>\n",
              "\n",
              "<style>\n",
              "  .colab-df-quickchart {\n",
              "      --bg-color: #E8F0FE;\n",
              "      --fill-color: #1967D2;\n",
              "      --hover-bg-color: #E2EBFA;\n",
              "      --hover-fill-color: #174EA6;\n",
              "      --disabled-fill-color: #AAA;\n",
              "      --disabled-bg-color: #DDD;\n",
              "  }\n",
              "\n",
              "  [theme=dark] .colab-df-quickchart {\n",
              "      --bg-color: #3B4455;\n",
              "      --fill-color: #D2E3FC;\n",
              "      --hover-bg-color: #434B5C;\n",
              "      --hover-fill-color: #FFFFFF;\n",
              "      --disabled-bg-color: #3B4455;\n",
              "      --disabled-fill-color: #666;\n",
              "  }\n",
              "\n",
              "  .colab-df-quickchart {\n",
              "    background-color: var(--bg-color);\n",
              "    border: none;\n",
              "    border-radius: 50%;\n",
              "    cursor: pointer;\n",
              "    display: none;\n",
              "    fill: var(--fill-color);\n",
              "    height: 32px;\n",
              "    padding: 0;\n",
              "    width: 32px;\n",
              "  }\n",
              "\n",
              "  .colab-df-quickchart:hover {\n",
              "    background-color: var(--hover-bg-color);\n",
              "    box-shadow: 0 1px 2px rgba(60, 64, 67, 0.3), 0 1px 3px 1px rgba(60, 64, 67, 0.15);\n",
              "    fill: var(--button-hover-fill-color);\n",
              "  }\n",
              "\n",
              "  .colab-df-quickchart-complete:disabled,\n",
              "  .colab-df-quickchart-complete:disabled:hover {\n",
              "    background-color: var(--disabled-bg-color);\n",
              "    fill: var(--disabled-fill-color);\n",
              "    box-shadow: none;\n",
              "  }\n",
              "\n",
              "  .colab-df-spinner {\n",
              "    border: 2px solid var(--fill-color);\n",
              "    border-color: transparent;\n",
              "    border-bottom-color: var(--fill-color);\n",
              "    animation:\n",
              "      spin 1s steps(1) infinite;\n",
              "  }\n",
              "\n",
              "  @keyframes spin {\n",
              "    0% {\n",
              "      border-color: transparent;\n",
              "      border-bottom-color: var(--fill-color);\n",
              "      border-left-color: var(--fill-color);\n",
              "    }\n",
              "    20% {\n",
              "      border-color: transparent;\n",
              "      border-left-color: var(--fill-color);\n",
              "      border-top-color: var(--fill-color);\n",
              "    }\n",
              "    30% {\n",
              "      border-color: transparent;\n",
              "      border-left-color: var(--fill-color);\n",
              "      border-top-color: var(--fill-color);\n",
              "      border-right-color: var(--fill-color);\n",
              "    }\n",
              "    40% {\n",
              "      border-color: transparent;\n",
              "      border-right-color: var(--fill-color);\n",
              "      border-top-color: var(--fill-color);\n",
              "    }\n",
              "    60% {\n",
              "      border-color: transparent;\n",
              "      border-right-color: var(--fill-color);\n",
              "    }\n",
              "    80% {\n",
              "      border-color: transparent;\n",
              "      border-right-color: var(--fill-color);\n",
              "      border-bottom-color: var(--fill-color);\n",
              "    }\n",
              "    90% {\n",
              "      border-color: transparent;\n",
              "      border-bottom-color: var(--fill-color);\n",
              "    }\n",
              "  }\n",
              "</style>\n",
              "\n",
              "  <script>\n",
              "    async function quickchart(key) {\n",
              "      const quickchartButtonEl =\n",
              "        document.querySelector('#' + key + ' button');\n",
              "      quickchartButtonEl.disabled = true;  // To prevent multiple clicks.\n",
              "      quickchartButtonEl.classList.add('colab-df-spinner');\n",
              "      try {\n",
              "        const charts = await google.colab.kernel.invokeFunction(\n",
              "            'suggestCharts', [key], {});\n",
              "      } catch (error) {\n",
              "        console.error('Error during call to suggestCharts:', error);\n",
              "      }\n",
              "      quickchartButtonEl.classList.remove('colab-df-spinner');\n",
              "      quickchartButtonEl.classList.add('colab-df-quickchart-complete');\n",
              "    }\n",
              "    (() => {\n",
              "      let quickchartButtonEl =\n",
              "        document.querySelector('#df-1dde4819-b263-4f77-ba8c-ba9b6141ec3e button');\n",
              "      quickchartButtonEl.style.display =\n",
              "        google.colab.kernel.accessAllowed ? 'block' : 'none';\n",
              "    })();\n",
              "  </script>\n",
              "</div>\n",
              "\n",
              "    </div>\n",
              "  </div>\n"
            ],
            "text/plain": [
              "              Age      GStat      GMath       GOOP   GEnglish\n",
              "count  102.000000  93.000000  95.000000  94.000000  96.000000\n",
              "mean    23.156863  13.966452  13.803895  14.721702  14.134479\n",
              "std      1.272287   2.568432   2.263178   1.856815   2.243978\n",
              "min     22.000000   8.400000   7.000000  10.000000   8.000000\n",
              "25%     23.000000  12.000000  12.000000  13.715000  13.000000\n",
              "50%     23.000000  14.000000  14.000000  15.000000  14.180000\n",
              "75%     23.000000  16.000000  15.000000  16.000000  15.000000\n",
              "max     32.000000  19.000000  20.000000  18.000000  20.000000"
            ]
          },
          "execution_count": 130,
          "metadata": {},
          "output_type": "execute_result"
        }
      ],
      "source": [
        "tayou_df.describe()"
      ]
    },
    {
      "cell_type": "code",
      "execution_count": 122,
      "metadata": {
        "colab": {
          "base_uri": "https://localhost:8080/"
        },
        "id": "GsbBHfpyK0b7",
        "outputId": "6fb1e1f7-bdc7-461d-8569-3ca57b47fcc1"
      },
      "outputs": [
        {
          "name": "stdout",
          "output_type": "stream",
          "text": [
            "0.25    23.0\n",
            "0.50    23.0\n",
            "0.75    23.0\n",
            "Name: Age, dtype: float64\n",
            "0.25    12.0\n",
            "0.50    14.0\n",
            "0.75    16.0\n",
            "Name: GStat, dtype: float64\n",
            "0.25    12.0\n",
            "0.50    14.0\n",
            "0.75    15.0\n",
            "Name: GMath, dtype: float64\n",
            "0.25    13.715\n",
            "0.50    15.000\n",
            "0.75    16.000\n",
            "Name: GOOP, dtype: float64\n",
            "0.25    13.00\n",
            "0.50    14.18\n",
            "0.75    15.00\n",
            "Name: GEnglish, dtype: float64\n"
          ]
        }
      ],
      "source": [
        "#Quartiles\n",
        "for column_name in num_split.columns:\n",
        "    print(num_split[column_name].quantile([0.25,0.5,0.75]))"
      ]
    },
    {
      "cell_type": "code",
      "execution_count": 123,
      "metadata": {
        "id": "ss4GEjKILbUz"
      },
      "outputs": [],
      "source": [
        "#interquartile range (IQR)\n",
        "def interquartile_range(dat):\n",
        "  return (dat.quantile(0.75)-dat.quantile(0.25))"
      ]
    },
    {
      "cell_type": "code",
      "execution_count": 127,
      "metadata": {
        "colab": {
          "base_uri": "https://localhost:8080/"
        },
        "id": "srn4gwUva-lu",
        "outputId": "18e69ca4-ef5a-40cb-9e36-216b64c43289"
      },
      "outputs": [
        {
          "name": "stdout",
          "output_type": "stream",
          "text": [
            "for Age the IQR 0.0\n",
            "for GStat the IQR 4.0\n",
            "for GMath the IQR 3.0\n",
            "for GOOP the IQR 2.285\n",
            "for GEnglish the IQR 2.0\n"
          ]
        }
      ],
      "source": [
        "#Use the function to compute the interquartile range for each numerical attribute\n",
        "for column_name in num_split.columns:\n",
        "  print('for', column_name, 'the IQR' , interquartile_range(num_split[column_name]))"
      ]
    },
    {
      "cell_type": "code",
      "execution_count": 128,
      "metadata": {
        "colab": {
          "base_uri": "https://localhost:8080/",
          "height": 448
        },
        "id": "k0iXFXtJLrRe",
        "outputId": "587ae8ca-9316-49c6-b9d9-eb32cf1d8fef"
      },
      "outputs": [
        {
          "data": {
            "text/plain": [
              "<Axes: >"
            ]
          },
          "execution_count": 128,
          "metadata": {},
          "output_type": "execute_result"
        },
        {
          "data": {
            "image/png": "[encoded data removed]",
            "text/plain": [
              "<Figure size 640x480 with 1 Axes>"
            ]
          },
          "metadata": {},
          "output_type": "display_data"
        }
      ],
      "source": [
        "#boxplots\n",
        "num_split.boxplot()"
      ]
    },
    {
      "cell_type": "markdown",
      "metadata": {
        "id": "mHR7bmBAf0so"
      },
      "source": [
        "Interpret the boxplots accroding to the values obtained in the previous results\n",
        "\n",
        "**For the age:**\n",
        "\n",
        "IQR: 0, => that's why there is no box. The maximum age is 32 and the median is 22. The Age variable seems to have very little variability.\n",
        "\n",
        "\n",
        "**For the GStat:**\n",
        "\n",
        "IQR=4, Q1=12, Q3=16. The median is 14. The highest mark is 20 and the lowest is 7.\n",
        "\n",
        "**For the GMath:**\n",
        "\n",
        "IQR: 3, Q1=12, Q3=16. The median is 15.\n",
        "\n",
        "**For the GOOP:**\n",
        "\n",
        "IQR=2, Q1= 14, Q3= 16. The median is 15. The lowest mark is 10.\n",
        "\n",
        "\n",
        "**For the GEnglish:**\n",
        "\n",
        "IQR= 2, Q1=13, Q3=15, The median is 14, The highest mark is 20."
      ]
    },
    {
      "cell_type": "code",
      "execution_count": null,
      "metadata": {
        "colab": {
          "base_uri": "https://localhost:8080/",
          "height": 241
        },
        "id": "yZfBssB3LfyI",
        "outputId": "c74b5156-5f30-44b6-c8d4-1eb5b9751e64"
      },
      "outputs": [
        {
          "data": {
            "text/html": [
              "<div>\n",
              "<style scoped>\n",
              "    .dataframe tbody tr th:only-of-type {\n",
              "        vertical-align: middle;\n",
              "    }\n",
              "\n",
              "    .dataframe tbody tr th {\n",
              "        vertical-align: top;\n",
              "    }\n",
              "\n",
              "    .dataframe thead th {\n",
              "        text-align: right;\n",
              "    }\n",
              "</style>\n",
              "<table border=\"1\" class=\"dataframe\">\n",
              "  <thead>\n",
              "    <tr style=\"text-align: right;\">\n",
              "      <th></th>\n",
              "      <th>0</th>\n",
              "    </tr>\n",
              "  </thead>\n",
              "  <tbody>\n",
              "    <tr>\n",
              "      <th>Age</th>\n",
              "      <td>1.618715</td>\n",
              "    </tr>\n",
              "    <tr>\n",
              "      <th>GStat</th>\n",
              "      <td>6.596845</td>\n",
              "    </tr>\n",
              "    <tr>\n",
              "      <th>GMath</th>\n",
              "      <td>5.121973</td>\n",
              "    </tr>\n",
              "    <tr>\n",
              "      <th>GOOP</th>\n",
              "      <td>3.447763</td>\n",
              "    </tr>\n",
              "    <tr>\n",
              "      <th>GEnglish</th>\n",
              "      <td>5.035438</td>\n",
              "    </tr>\n",
              "  </tbody>\n",
              "</table>\n",
              "</div><br><label><b>dtype:</b> float64</label>"
            ],
            "text/plain": [
              "Age         1.618715\n",
              "GStat       6.596845\n",
              "GMath       5.121973\n",
              "GOOP        3.447763\n",
              "GEnglish    5.035438\n",
              "dtype: float64"
            ]
          },
          "execution_count": 57,
          "metadata": {},
          "output_type": "execute_result"
        }
      ],
      "source": [
        "#Variance\n",
        "num_split.var()"
      ]
    },
    {
      "cell_type": "code",
      "execution_count": null,
      "metadata": {
        "colab": {
          "base_uri": "https://localhost:8080/",
          "height": 241
        },
        "id": "W8zcbZ4cLkTQ",
        "outputId": "27e3b8db-ee37-4f9b-c355-d24a79a8af33"
      },
      "outputs": [
        {
          "data": {
            "text/html": [
              "<div>\n",
              "<style scoped>\n",
              "    .dataframe tbody tr th:only-of-type {\n",
              "        vertical-align: middle;\n",
              "    }\n",
              "\n",
              "    .dataframe tbody tr th {\n",
              "        vertical-align: top;\n",
              "    }\n",
              "\n",
              "    .dataframe thead th {\n",
              "        text-align: right;\n",
              "    }\n",
              "</style>\n",
              "<table border=\"1\" class=\"dataframe\">\n",
              "  <thead>\n",
              "    <tr style=\"text-align: right;\">\n",
              "      <th></th>\n",
              "      <th>0</th>\n",
              "    </tr>\n",
              "  </thead>\n",
              "  <tbody>\n",
              "    <tr>\n",
              "      <th>Age</th>\n",
              "      <td>1.272287</td>\n",
              "    </tr>\n",
              "    <tr>\n",
              "      <th>GStat</th>\n",
              "      <td>2.568432</td>\n",
              "    </tr>\n",
              "    <tr>\n",
              "      <th>GMath</th>\n",
              "      <td>2.263178</td>\n",
              "    </tr>\n",
              "    <tr>\n",
              "      <th>GOOP</th>\n",
              "      <td>1.856815</td>\n",
              "    </tr>\n",
              "    <tr>\n",
              "      <th>GEnglish</th>\n",
              "      <td>2.243978</td>\n",
              "    </tr>\n",
              "  </tbody>\n",
              "</table>\n",
              "</div><br><label><b>dtype:</b> float64</label>"
            ],
            "text/plain": [
              "Age         1.272287\n",
              "GStat       2.568432\n",
              "GMath       2.263178\n",
              "GOOP        1.856815\n",
              "GEnglish    2.243978\n",
              "dtype: float64"
            ]
          },
          "execution_count": 58,
          "metadata": {},
          "output_type": "execute_result"
        }
      ],
      "source": [
        "#Standard deviation\n",
        "num_split.std()"
      ]
    },
    {
      "cell_type": "markdown",
      "metadata": {
        "id": "VT6b1YP5ipRT"
      },
      "source": [
        "Interpret the results:\n",
        "\n",
        "The variance and the standard deviation are quite low for the age.\n",
        "\n",
        "However, they are higher for the Gstat. The standard deviation of about 2.56 suggests most grades deviate about 2.56 points from the mean.\n",
        "\n",
        "They are slightly lower for the GMath. The standard deviation of about 2.26 suggests most grades deviate about 2.26 points from the mean.\n",
        "\n",
        "They are nearly the same in GEnglish. With a standard deviation of 2.24, most grades deviate about 2.24 points from the average score.\n",
        "\n",
        "They are lower in GOOP. With a standard deviation of 1.9, most grades deviate about 2.24 points from the average score.\n",
        "\n",
        "\n"
      ]
    },
    {
      "cell_type": "markdown",
      "metadata": {
        "id": "ydfQpgm1Mz9f"
      },
      "source": [
        "### 5. Symmetry"
      ]
    },
    {
      "cell_type": "code",
      "execution_count": 131,
      "metadata": {
        "colab": {
          "base_uri": "https://localhost:8080/",
          "height": 241
        },
        "id": "w6FyldrvLv5C",
        "outputId": "0b336e86-e449-4b39-9d54-0b9016ac1752"
      },
      "outputs": [
        {
          "data": {
            "text/html": [
              "<div>\n",
              "<style scoped>\n",
              "    .dataframe tbody tr th:only-of-type {\n",
              "        vertical-align: middle;\n",
              "    }\n",
              "\n",
              "    .dataframe tbody tr th {\n",
              "        vertical-align: top;\n",
              "    }\n",
              "\n",
              "    .dataframe thead th {\n",
              "        text-align: right;\n",
              "    }\n",
              "</style>\n",
              "<table border=\"1\" class=\"dataframe\">\n",
              "  <thead>\n",
              "    <tr style=\"text-align: right;\">\n",
              "      <th></th>\n",
              "      <th>0</th>\n",
              "    </tr>\n",
              "  </thead>\n",
              "  <tbody>\n",
              "    <tr>\n",
              "      <th>Age</th>\n",
              "      <td>4.436223</td>\n",
              "    </tr>\n",
              "    <tr>\n",
              "      <th>GStat</th>\n",
              "      <td>-0.154907</td>\n",
              "    </tr>\n",
              "    <tr>\n",
              "      <th>GMath</th>\n",
              "      <td>-0.232538</td>\n",
              "    </tr>\n",
              "    <tr>\n",
              "      <th>GOOP</th>\n",
              "      <td>-0.342040</td>\n",
              "    </tr>\n",
              "    <tr>\n",
              "      <th>GEnglish</th>\n",
              "      <td>-0.019517</td>\n",
              "    </tr>\n",
              "  </tbody>\n",
              "</table>\n",
              "</div><br><label><b>dtype:</b> float64</label>"
            ],
            "text/plain": [
              "Age         4.436223\n",
              "GStat      -0.154907\n",
              "GMath      -0.232538\n",
              "GOOP       -0.342040\n",
              "GEnglish   -0.019517\n",
              "dtype: float64"
            ]
          },
          "execution_count": 131,
          "metadata": {},
          "output_type": "execute_result"
        }
      ],
      "source": [
        "#Skewness\n",
        "num_split.skew()"
      ]
    },
    {
      "cell_type": "markdown",
      "metadata": {
        "id": "acdlFai7j7eD"
      },
      "source": [
        "Interpret the results:\n",
        "\n",
        "Age is extremely positively skewed, indicating that the majority of respondents are younger with a few older outliers.\n",
        "\n",
        "The academic subjects (GStat, GMath, GOOP, and GEnglish) exhibit nearly symmetrical distributions with slight negative skewness, suggesting balanced performance among students in these subjects."
      ]
    },
    {
      "cell_type": "code",
      "execution_count": null,
      "metadata": {
        "id": "UlI5y5k-L0Sf"
      },
      "outputs": [],
      "source": [
        "#Kurtosis\n",
        "num_split.kurtosis()"
      ]
    },
    {
      "cell_type": "code",
      "execution_count": 137,
      "metadata": {
        "colab": {
          "base_uri": "https://localhost:8080/",
          "height": 453
        },
        "id": "4m6Zch8a4k9F",
        "outputId": "c3147fdf-785f-4102-e840-0ac504ec1e7b"
      },
      "outputs": [
        {
          "data": {
            "image/png": "[encoded data removed]",
            "text/plain": [
              "<Figure size 640x480 with 1 Axes>"
            ]
          },
          "metadata": {},
          "output_type": "display_data"
        }
      ],
      "source": [
        "import matplotlib.pyplot as plt\n",
        "import scipy.stats as stats\n",
        "# Calculating the mean and standard deviation of the parameter \"GStat\":\n",
        "mean = tayou_df['Age'].mean()\n",
        "std = tayou_df['Age'].std()\n",
        "\n",
        "# Calculating probability density function (PDF)\n",
        "pdf = stats.norm.pdf(tayou_df['Age'].sort_values(), mean, std)\n",
        "\n",
        "# Drawing a graph\n",
        "plt.plot(tayou_df['Age'].sort_values(), pdf)\n",
        "plt.xlim([20,40])\n",
        "plt.xlabel('Age', size=12)\n",
        "plt.ylabel('Frequency', size=12)\n",
        "plt.grid(True, alpha=0.3, linestyle='--')\n",
        "plt.show()"
      ]
    },
    {
      "cell_type": "markdown",
      "metadata": {
        "id": "ZCUgEIyjnenq"
      },
      "source": [
        "Interpret the results:\n",
        "\n",
        "The plot reinforces our earlier observations regarding age, showing it to be positively skewed. This can be explained by the absence of fluctuation around the mean, which is natural since those who filled out the form are all older than 22 years, with only a few exceeding 30."
      ]
    },
    {
      "cell_type": "code",
      "execution_count": 133,
      "metadata": {
        "colab": {
          "base_uri": "https://localhost:8080/",
          "height": 453
        },
        "id": "GokvUZx_Eeqv",
        "outputId": "23a0454a-1cd6-47b6-e77f-bffcde29a237"
      },
      "outputs": [
        {
          "data": {
            "image/png": "[encoded data removed]",
            "text/plain": [
              "<Figure size 640x480 with 1 Axes>"
            ]
          },
          "metadata": {},
          "output_type": "display_data"
        }
      ],
      "source": [
        "import matplotlib.pyplot as plt\n",
        "import scipy.stats as stats\n",
        "# Calculating the mean and standard deviation of the parameter \"GStat\":\n",
        "mean = tayou_df['GStat'].mean()\n",
        "std = tayou_df['GStat'].std()\n",
        "\n",
        "# Calculating probability density function (PDF)\n",
        "pdf = stats.norm.pdf(tayou_df['GStat'].sort_values(), mean, std)\n",
        "\n",
        "# Drawing a graph\n",
        "plt.plot(tayou_df['GStat'].sort_values(), pdf)\n",
        "plt.xlim([0,20])\n",
        "plt.xlabel('Grades in Statistics (GStat)', size=12)\n",
        "plt.ylabel('Frequency', size=12)\n",
        "plt.grid(True, alpha=0.3, linestyle='--')\n",
        "plt.show()"
      ]
    },
    {
      "cell_type": "markdown",
      "metadata": {
        "id": "dvgRUGsZFYPT"
      },
      "source": [
        "Interpret the results:\n",
        "\n",
        "The GStat plot reveals a nearly symmetrical distribution (skewness: -0.1549). This indicates that grades are fairly evenly distributed around the mean, suggesting that students performed consistently in statistics without any substantial bias toward higher or lower grades. The slight negative skew indicates a minor tendency for a few lower scores, but overall, the performance appears balanced."
      ]
    },
    {
      "cell_type": "code",
      "execution_count": 134,
      "metadata": {
        "colab": {
          "base_uri": "https://localhost:8080/",
          "height": 453
        },
        "id": "uvgUGW0uEncT",
        "outputId": "b3b90055-6677-4f14-e3f3-9d0a62825cf7"
      },
      "outputs": [
        {
          "data": {
            "image/png": "[encoded data removed]",
            "text/plain": [
              "<Figure size 640x480 with 1 Axes>"
            ]
          },
          "metadata": {},
          "output_type": "display_data"
        }
      ],
      "source": [
        "import matplotlib.pyplot as plt\n",
        "import scipy.stats as stats\n",
        "# Calculating the mean and standard deviation of the parameter \"GStat\":\n",
        "mean = tayou_df['GMath'].mean()\n",
        "std = tayou_df['GMath'].std()\n",
        "\n",
        "# Calculating probability density function (PDF)\n",
        "pdf = stats.norm.pdf(tayou_df['GMath'].sort_values(), mean, std)\n",
        "\n",
        "# Drawing a graph\n",
        "plt.plot(tayou_df['GMath'].sort_values(), pdf)\n",
        "plt.xlim([0,20])\n",
        "plt.xlabel('Grades in GMath (GMath)', size=12)\n",
        "plt.ylabel('Frequency', size=12)\n",
        "plt.grid(True, alpha=0.3, linestyle='--')\n",
        "plt.show()"
      ]
    },
    {
      "cell_type": "markdown",
      "metadata": {
        "id": "S2YTjLYYFsgw"
      },
      "source": [
        "The GMath distribution also exhibits a nearly symmetrical shape (skewness: -0.2325). Similar to GStat, the grades are evenly distributed around the mean, suggesting consistent student performance in mathematics. The slight negative skew suggests that there are a few lower scores but does not significantly detract from the overall symmetry of the distribution."
      ]
    },
    {
      "cell_type": "code",
      "execution_count": 135,
      "metadata": {
        "colab": {
          "base_uri": "https://localhost:8080/",
          "height": 453
        },
        "id": "M9-2Gj2oE0rH",
        "outputId": "1cce3e31-b393-4513-8a80-e50d9f4f3b0f"
      },
      "outputs": [
        {
          "data": {
            "image/png": "[encoded data removed]",
            "text/plain": [
              "<Figure size 640x480 with 1 Axes>"
            ]
          },
          "metadata": {},
          "output_type": "display_data"
        }
      ],
      "source": [
        "import matplotlib.pyplot as plt\n",
        "import scipy.stats as stats\n",
        "# Calculating the mean and standard deviation of the parameter \"GStat\":\n",
        "mean = tayou_df['GOOP'].mean()\n",
        "std = tayou_df['GOOP'].std()\n",
        "\n",
        "# Calculating probability density function (PDF)\n",
        "pdf = stats.norm.pdf(tayou_df['GOOP'].sort_values(), mean, std)\n",
        "\n",
        "# Drawing a graph\n",
        "plt.plot(tayou_df['GOOP'].sort_values(), pdf)\n",
        "plt.xlim([0,20])\n",
        "plt.xlabel('Grades in GOOP (GOOP)', size=12)\n",
        "plt.ylabel('Frequency', size=12)\n",
        "plt.grid(True, alpha=0.3, linestyle='--')\n",
        "plt.show()"
      ]
    },
    {
      "cell_type": "markdown",
      "metadata": {
        "id": "L5bLOnseFx7P"
      },
      "source": [
        "The plot for GOOP shows a nearly symmetrical distribution (skewness: -0.3420). This indicates that grades are distributed fairly evenly around the mean, reflecting a balanced performance among students. The slight negative skew suggests a few lower grades, but it does not considerably affect the overall distribution."
      ]
    },
    {
      "cell_type": "code",
      "execution_count": 136,
      "metadata": {
        "colab": {
          "base_uri": "https://localhost:8080/",
          "height": 453
        },
        "id": "KDP90y-hFAKD",
        "outputId": "2ca9ef3f-97ee-43f8-c053-ed6543d4b335"
      },
      "outputs": [
        {
          "data": {
            "image/png": "[encoded data removed]",
            "text/plain": [
              "<Figure size 640x480 with 1 Axes>"
            ]
          },
          "metadata": {},
          "output_type": "display_data"
        }
      ],
      "source": [
        "import matplotlib.pyplot as plt\n",
        "import scipy.stats as stats\n",
        "# Calculating the mean and standard deviation of the parameter \"GStat\":\n",
        "mean = tayou_df['GEnglish'].mean()\n",
        "std = tayou_df['GEnglish'].std()\n",
        "\n",
        "# Calculating probability density function (PDF)\n",
        "pdf = stats.norm.pdf(tayou_df['GEnglish'].sort_values(), mean, std)\n",
        "\n",
        "# Drawing a graph\n",
        "plt.plot(tayou_df['GEnglish'].sort_values(), pdf)\n",
        "plt.xlim([0,20])\n",
        "plt.xlabel('Grades in GEnglish (GEnglish)', size=12)\n",
        "plt.ylabel('Frequency', size=12)\n",
        "plt.grid(True, alpha=0.3, linestyle='--')\n",
        "plt.show()"
      ]
    },
    {
      "cell_type": "markdown",
      "metadata": {
        "id": "wc9mBqh1F0gn"
      },
      "source": [
        "The GEnglish distribution demonstrates an almost perfectly symmetrical distribution (skewness: -0.0195). With a skewness value close to zero, this suggests that the grades are very evenly distributed around the mean, indicating consistent performance across respondents. There is no noticeable skew, meaning the performance in English is well balanced among students."
      ]
    },
    {
      "cell_type": "code",
      "execution_count": null,
      "metadata": {
        "id": "FpzA9PKeFFbJ"
      },
      "outputs": [],
      "source": []
    }
  ],
  "metadata": {
    "colab": {
      "provenance": []
    },
    "kernelspec": {
      "display_name": "Python 3",
      "name": "python3"
    },
    "language_info": {
      "codemirror_mode": {
        "name": "ipython",
        "version": 3
      },
      "file_extension": ".py",
      "mimetype": "text/x-python",
      "name": "python",
      "nbconvert_exporter": "python",
      "pygments_lexer": "ipython3",
      "version": "3.12.2"
    }
  },
  "nbformat": 4,
  "nbformat_minor": 0
}
