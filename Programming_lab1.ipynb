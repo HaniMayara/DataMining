{
  "nbformat": 4,
  "nbformat_minor": 0,
  "metadata": {
    "colab": {
      "provenance": []
    },
    "kernelspec": {
      "name": "python3",
      "display_name": "Python 3"
    },
    "language_info": {
      "name": "python"
    }
  },
  "cells": [
    {
      "cell_type": "markdown",
      "source": [
        "# Know your data\n",
        "\n",
        "Learn how to effectively explore and deeply understand your data before applying datapreprocessing techniques on it.\n",
        "\n",
        "\n",
        "\n",
        "---\n",
        "\n",
        "\n",
        "> Author: Dr. Fadoua Ouamani\n",
        "\n",
        "\n",
        "---\n",
        "\n",
        "\n",
        "\n"
      ],
      "metadata": {
        "id": "NFARdVhI1vuf"
      }
    },
    {
      "cell_type": "markdown",
      "source": [
        "### **The Dataset**"
      ],
      "metadata": {
        "id": "H2VK6NWcPT9W"
      }
    },
    {
      "cell_type": "markdown",
      "source": [
        "The datas was collected via a form titled \"Tell me more about you\" that was shared with the student to collect :\n",
        "\n",
        "*   Some details about their past grades in some classes related to datamining: Statistics, Mathematics, Programming, and English (as the class materials are all designed and written in english)\n",
        "*   A personality test to have an overall idea about their personalities\n",
        "*   Preferences\n",
        "\n",
        "We will not be using all the data collected, we will only use the following data about:\n",
        "\n",
        "\n",
        "*   The personlity type: nominal attribute with 4 values, Lion, Otter, Beaver, and Golden retriever\n",
        "*   Being a collector or not: binary attribute\n",
        "*   The age: Discrete numerical attribute\n",
        "*   The gender: nominal with two values, F for female and M for male\n",
        "*   Zodiac sign: nominal attribute with the values representing the different signs\n",
        "*   Favorite language : nominal attribute as well and it may continue any language among the existing ones\n",
        "*   4 past grades in Statistics, Mathematics, English and Object-Oriented Programming: Conitnous ration-scaled numerical attributes\n",
        "*   Being someone who likes learning new skills or not: Binary attribute\n",
        "\n",
        "The dataset is titled **TAYOU** as the abbreviation of Tell me About YOU. it was purely a matter of coincidence that this term has a beautiful meaning in Japanese. In fact, Tayou means diverse and varied as my students are <3\n",
        "\n",
        "\n"
      ],
      "metadata": {
        "id": "E35YJhmWPg4q"
      }
    },
    {
      "cell_type": "markdown",
      "source": [
        "### 1.   Import the required libraries\n",
        "\n",
        "\n"
      ],
      "metadata": {
        "id": "xdjfRxGxTbU_"
      }
    },
    {
      "cell_type": "code",
      "source": [
        "import pandas as pd    # to handle the dataframe\n",
        "pd.set_option('expand_frame_repr', False) #to avoid the multi-lines formatting of the dataframe\n",
        "import numpy as np     # to handle numbers and ndarray"
      ],
      "metadata": {
        "id": "zAmfm6f7T05Y"
      },
      "execution_count": null,
      "outputs": []
    },
    {
      "cell_type": "markdown",
      "source": [
        "### 2.   Dataset loading, indexing and slicing\n",
        "\n"
      ],
      "metadata": {
        "id": "6hqp_EB6T2pQ"
      }
    },
    {
      "cell_type": "code",
      "source": [
        "tayou_df = pd.read_csv('tayou.csv') #..............."
      ],
      "metadata": {
        "id": "J5M1q7CNUCcU"
      },
      "execution_count": null,
      "outputs": []
    },
    {
      "cell_type": "code",
      "source": [
        "tayou_df.shape #..........................."
      ],
      "metadata": {
        "id": "-brOehOWNsAr"
      },
      "execution_count": null,
      "outputs": []
    },
    {
      "cell_type": "code",
      "source": [
        "tayou_df.columns #...................................."
      ],
      "metadata": {
        "id": "BLausrQ9N1FJ"
      },
      "execution_count": null,
      "outputs": []
    },
    {
      "cell_type": "code",
      "source": [
        "tayou_df.head() #............................................"
      ],
      "metadata": {
        "id": "OA6bl-2yNeU4"
      },
      "execution_count": null,
      "outputs": []
    },
    {
      "cell_type": "code",
      "source": [
        "#Indexing differently and slicing\n",
        "print(tayou_df.loc[0].index) #.....................\n",
        "tayou_df.set_index(np.arange(10,112), inplace=True) #...............................\n",
        "print(tayou_df.loc[10].index) #..................................................\n",
        "print(tayou_df.iloc[5:7,0:2]) # .................................................\n",
        "print(tayou_df.loc['15':'17', 'Personality':'Age']) #"
      ],
      "metadata": {
        "id": "XzI9lvkxNXp6"
      },
      "execution_count": null,
      "outputs": []
    },
    {
      "cell_type": "markdown",
      "source": [
        "**Exercice 1:**\n",
        "\n",
        "1.   Use the previous output to answer what is the difference in the behavior of .loc and .iloc when it comes to slicing the dataset.\n",
        "2.   Without running but by only looking at the data, what will be the output of tayou_df.loc['10':'17', 'GStat':'GEnglish'].\n",
        "3.   Without running but by only looking at the data, what will be the output of tayou_df.iloc[0:7, 5:8]."
      ],
      "metadata": {
        "id": "nd8KkSI6gFQM"
      }
    },
    {
      "cell_type": "markdown",
      "source": [
        "Answers:\n",
        "1. ......................\n",
        "2. ......................\n",
        "3. ......................"
      ],
      "metadata": {
        "id": "6PhIQ51GASbX"
      }
    },
    {
      "cell_type": "code",
      "source": [
        "#Using loc, display only the rows with collector equal to 'Yes'\n"
      ],
      "metadata": {
        "id": "Q9MVrPNcCDhj"
      },
      "execution_count": null,
      "outputs": []
    },
    {
      "cell_type": "code",
      "source": [
        "#Using loc, display only the rows with collector equal to 'Yes' and LearnNSkill equal to 'Yes'\n"
      ],
      "metadata": {
        "id": "lZIbiVtSCuum"
      },
      "execution_count": null,
      "outputs": []
    },
    {
      "cell_type": "code",
      "source": [
        "#interpret the results\n"
      ],
      "metadata": {
        "id": "yQ2xrQsvDvF-"
      },
      "execution_count": null,
      "outputs": []
    },
    {
      "cell_type": "code",
      "source": [
        "tayou_df.info\n",
        "mlt_seris =tayou_df.groupby(['Personality','Gender','Collector']).GStat.mean()\n",
        "mlt_seris"
      ],
      "metadata": {
        "id": "GcAtVQHgGDjH"
      },
      "execution_count": null,
      "outputs": []
    },
    {
      "cell_type": "markdown",
      "source": [
        "Note that you have created a **multi-index Series**, expand on its usefulness\n"
      ],
      "metadata": {
        "id": "lF_I0fwbGh1N"
      }
    },
    {
      "cell_type": "markdown",
      "source": [
        "Answer: ....................................................."
      ],
      "metadata": {
        "id": "d8kGHwi3IISr"
      }
    },
    {
      "cell_type": "markdown",
      "source": [
        "**Exercice 2:**\n",
        "\n",
        "Now run the following codes, study the outputs, and answer the questions.\n",
        "\n",
        "1. When we use .iloc[] for a multi-index Series or DataFrame, what we should expect?\n",
        "2. When we use .loc[] to access the data of one of the inner most index level of multi-index Series, what should we expect?\n",
        "3. When we use .loc[] to access the data of one of non inner most index level of multi-index Series, what should we expect?\n",
        "4. When you run either line of code below in the third cell, you will get an error and that is the point of this question. Study the error and try to answer the question.\n",
        "\n"
      ],
      "metadata": {
        "id": "RlD2BAgBILSy"
      }
    },
    {
      "cell_type": "code",
      "source": [
        "print(mlt_seris.iloc[0])\n",
        "print(mlt_seris.iloc[1])\n",
        "print(mlt_seris.iloc[2])"
      ],
      "metadata": {
        "id": "NdQu6oHAGwgs"
      },
      "execution_count": null,
      "outputs": []
    },
    {
      "cell_type": "code",
      "source": [
        "mlt_seris.loc['Otter']"
      ],
      "metadata": {
        "id": "DlPAL5ayKZjF"
      },
      "execution_count": null,
      "outputs": []
    },
    {
      "cell_type": "code",
      "source": [
        "print(mlt_seris.loc['F'])\n",
        "print(mlt_seris.loc['Yes'])"
      ],
      "metadata": {
        "id": "IEXjSwHiKigL"
      },
      "execution_count": null,
      "outputs": []
    },
    {
      "cell_type": "markdown",
      "source": [
        "Answers:\n",
        "................................................."
      ],
      "metadata": {
        "id": "tm8i1wW1sCrG"
      }
    },
    {
      "cell_type": "markdown",
      "source": [
        "### 3.   Central tendency\n",
        "\n"
      ],
      "metadata": {
        "id": "NoBhTcfn3Ori"
      }
    },
    {
      "cell_type": "markdown",
      "source": [
        "in this section we will be answering the following question: **Given an attribute, where do most of its values fall?**\n",
        "\n",
        "The central tendency measures the location of **the middle **or **center **of a data distribution\n",
        "\n",
        "Measures are: **mean**, **median** and **mode**\n"
      ],
      "metadata": {
        "id": "GM-3oTWusbUS"
      }
    },
    {
      "cell_type": "code",
      "source": [
        "num_split=tayou_df.loc[:,tayou_df.dtypes!=object] #..........................................\n",
        "num_split.head()"
      ],
      "metadata": {
        "id": "M_Z_Zl6xJ1CK"
      },
      "execution_count": null,
      "outputs": []
    },
    {
      "cell_type": "code",
      "source": [
        "categ_split=tayou_df.loc[:,tayou_df.dtypes==object] #...........................................\n",
        "categ_split.head()"
      ],
      "metadata": {
        "id": "eb8bGz74HpLq"
      },
      "execution_count": null,
      "outputs": []
    },
    {
      "cell_type": "code",
      "source": [
        "for column_name in num_split.columns:\n",
        "    print(num_split[column_name].mean())\n",
        "    print(num_split[column_name].median())\n",
        "    print(num_split[column_name].mode())"
      ],
      "metadata": {
        "id": "Zj4rTIzlJ_NF"
      },
      "execution_count": null,
      "outputs": []
    },
    {
      "cell_type": "markdown",
      "source": [
        "Interpret the obtained results: (Indication: compare the values you have obtained for each attribute for the mean, the median and the mode)\n",
        "==> ...................................................................."
      ],
      "metadata": {
        "id": "ArwqsOi3xq50"
      }
    },
    {
      "cell_type": "code",
      "source": [
        "import matplotlib.pyplot as plt\n",
        "import scipy.stats as stats\n",
        "# Calculating the mean and standard deviation of the parameter \"GStat\":\n",
        "mean = tayou_df['GStat'].mean()\n",
        "std = tayou_df['GStat'].std()\n",
        "\n",
        "# Calculating probability density function (PDF)\n",
        "pdf = stats.norm.pdf(tayou_df['GStat'].sort_values(), mean, std)\n",
        "\n",
        "# Drawing a graph\n",
        "plt.plot(tayou_df['GStat'].sort_values(), pdf)\n",
        "plt.xlim([5,20])\n",
        "plt.xlabel('Grades in Statistics (GStat)', size=12)\n",
        "plt.ylabel('Frequency', size=12)\n",
        "plt.grid(True, alpha=0.3, linestyle='--')\n",
        "plt.show()"
      ],
      "metadata": {
        "id": "kKF1I1ZJyM_t"
      },
      "execution_count": null,
      "outputs": []
    },
    {
      "cell_type": "markdown",
      "source": [
        "Interpret the resulting plot:"
      ],
      "metadata": {
        "id": "r3n3wGtXqofa"
      }
    },
    {
      "cell_type": "code",
      "source": [
        "for column_name in categ_split.columns:\n",
        "    print(categ_split[column_name].mode())\n",
        "    print(categ_split[column_name].value_counts())"
      ],
      "metadata": {
        "id": "xd0e8XvXLkIZ"
      },
      "execution_count": null,
      "outputs": []
    },
    {
      "cell_type": "markdown",
      "source": [
        "Interpret the results: ......................................................................"
      ],
      "metadata": {
        "id": "965A_WbgL3py"
      }
    },
    {
      "cell_type": "markdown",
      "source": [
        "### 4.  Dispersion\n",
        "\n"
      ],
      "metadata": {
        "id": "3TVqABp23pAp"
      }
    },
    {
      "cell_type": "markdown",
      "source": [
        "In this section, we will be answering the following question: **How are the data spread out?** by measuring the variability of data\n",
        "\n",
        "Measures: **range**, **quartiles**,**interquartile range**, **variance** and **standard deviation**"
      ],
      "metadata": {
        "id": "oks3akpa6hO0"
      }
    },
    {
      "cell_type": "code",
      "source": [
        "# the range\n",
        "def range_imp(dat):\n",
        "  return (dat.max()-dat.min())"
      ],
      "metadata": {
        "id": "4qzDctHa3xp8"
      },
      "execution_count": null,
      "outputs": []
    },
    {
      "cell_type": "code",
      "source": [
        "#Use the function to compute the range for each numerical attribute\n"
      ],
      "metadata": {
        "id": "E1pUeKHu78V7"
      },
      "execution_count": null,
      "outputs": []
    },
    {
      "cell_type": "code",
      "source": [
        "tayou_df.describe()"
      ],
      "metadata": {
        "id": "bg_B4gyuKpC3"
      },
      "execution_count": null,
      "outputs": []
    },
    {
      "cell_type": "code",
      "source": [
        "#Quartiles\n",
        "for column_name in num_split.columns:\n",
        "    print(num_split[column_name].quantile([0.25,0.5,0.75]))"
      ],
      "metadata": {
        "id": "GsbBHfpyK0b7"
      },
      "execution_count": null,
      "outputs": []
    },
    {
      "cell_type": "code",
      "source": [
        "#interquartile range (IQR)\n",
        "def interquartile_range(dat):\n",
        "  return (dat.quantile(0.75)-dat.quantile(0.25))"
      ],
      "metadata": {
        "id": "ss4GEjKILbUz"
      },
      "execution_count": null,
      "outputs": []
    },
    {
      "cell_type": "code",
      "source": [
        "#Use the function to compute the interquartile range for each numerical attribute\n"
      ],
      "metadata": {
        "id": "srn4gwUva-lu"
      },
      "execution_count": null,
      "outputs": []
    },
    {
      "cell_type": "code",
      "source": [
        "#boxplots\n",
        "num_split.boxplot()"
      ],
      "metadata": {
        "id": "k0iXFXtJLrRe"
      },
      "execution_count": null,
      "outputs": []
    },
    {
      "cell_type": "markdown",
      "source": [
        "Interpret the boxplots accroding to the values obtained in the previous results"
      ],
      "metadata": {
        "id": "mHR7bmBAf0so"
      }
    },
    {
      "cell_type": "code",
      "source": [
        "#Variance\n",
        "num_split.var()"
      ],
      "metadata": {
        "id": "yZfBssB3LfyI"
      },
      "execution_count": null,
      "outputs": []
    },
    {
      "cell_type": "code",
      "source": [
        "#Standard deviation\n",
        "num_split.std()"
      ],
      "metadata": {
        "id": "W8zcbZ4cLkTQ"
      },
      "execution_count": null,
      "outputs": []
    },
    {
      "cell_type": "markdown",
      "source": [
        "Interpret the results:"
      ],
      "metadata": {
        "id": "VT6b1YP5ipRT"
      }
    },
    {
      "cell_type": "markdown",
      "source": [
        "### 5. Symmetry"
      ],
      "metadata": {
        "id": "ydfQpgm1Mz9f"
      }
    },
    {
      "cell_type": "code",
      "source": [
        "#Skewness\n",
        "num_split.skew()"
      ],
      "metadata": {
        "id": "w6FyldrvLv5C"
      },
      "execution_count": null,
      "outputs": []
    },
    {
      "cell_type": "markdown",
      "source": [
        "Interpret the results:"
      ],
      "metadata": {
        "id": "acdlFai7j7eD"
      }
    },
    {
      "cell_type": "code",
      "source": [
        "#Kurtosis\n",
        "num_split.kurtosis()"
      ],
      "metadata": {
        "id": "UlI5y5k-L0Sf"
      },
      "execution_count": null,
      "outputs": []
    },
    {
      "cell_type": "markdown",
      "source": [
        "Interpret the results:"
      ],
      "metadata": {
        "id": "ZCUgEIyjnenq"
      }
    }
  ]
}